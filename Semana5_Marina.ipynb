{
  "nbformat": 4,
  "nbformat_minor": 0,
  "metadata": {
    "colab": {
      "name": "Semana5_Marina.ipynb",
      "provenance": [],
      "collapsed_sections": [],
      "machine_shape": "hm",
      "authorship_tag": "ABX9TyMlWEPvh5iPktHJiLoBUDcy",
      "include_colab_link": true
    },
    "kernelspec": {
      "name": "python3",
      "display_name": "Python 3"
    }
  },
  "cells": [
    {
      "cell_type": "markdown",
      "metadata": {
        "id": "view-in-github",
        "colab_type": "text"
      },
      "source": [
        "<a href=\"https://colab.research.google.com/github/marinapor/Mis-tareas/blob/master/Semana5_Marina.ipynb\" target=\"_parent\"><img src=\"https://colab.research.google.com/assets/colab-badge.svg\" alt=\"Open In Colab\"/></a>"
      ]
    },
    {
      "cell_type": "markdown",
      "metadata": {
        "id": "dbgZEAinlOcn",
        "colab_type": "text"
      },
      "source": [
        "UNO"
      ]
    },
    {
      "cell_type": "code",
      "metadata": {
        "id": "BclrfBYbDqB-",
        "colab_type": "code",
        "outputId": "dbae6741-0633-4261-b1ff-a08880a1c25f",
        "colab": {
          "base_uri": "https://localhost:8080/",
          "height": 34
        }
      },
      "source": [
        "mi_lista = [\"Hola\", \"mundo\", \"bienvenidos\", \"a\", \"un\" ,\"nuevo\", \"día\", \"lleno\", \"de\", \"aventuras\"]\n",
        "nueva_lista = list (map (lambda x: x[0] , mi_lista) )\n",
        "print (nueva_lista)"
      ],
      "execution_count": 1,
      "outputs": [
        {
          "output_type": "stream",
          "text": [
            "['H', 'm', 'b', 'a', 'u', 'n', 'd', 'l', 'd', 'a']\n"
          ],
          "name": "stdout"
        }
      ]
    },
    {
      "cell_type": "code",
      "metadata": {
        "colab_type": "code",
        "id": "_hgpZmYlQKdT",
        "outputId": "a27bb259-5d9a-4318-99d0-9c046765267c",
        "colab": {
          "base_uri": "https://localhost:8080/",
          "height": 34
        }
      },
      "source": [
        "mi_lista = [\"Hola\", \"mundo\", \"bienvenidos\", \"a\", \"un\", \"nuevo\", \"día\", \"lleno\", \"de\", \"aventuras\"]\n",
        "nueva_lista = [x[0] for x in mi_lista]\n",
        "nueva_lista"
      ],
      "execution_count": 2,
      "outputs": [
        {
          "output_type": "execute_result",
          "data": {
            "text/plain": [
              "['H', 'm', 'b', 'a', 'u', 'n', 'd', 'l', 'd', 'a']"
            ]
          },
          "metadata": {
            "tags": []
          },
          "execution_count": 2
        }
      ]
    },
    {
      "cell_type": "markdown",
      "metadata": {
        "id": "UQa9MUMaleJ6",
        "colab_type": "text"
      },
      "source": [
        "DOS"
      ]
    },
    {
      "cell_type": "code",
      "metadata": {
        "id": "ke1Lk6EMMfgi",
        "colab_type": "code",
        "outputId": "c2ac700a-a0a7-47f4-8a54-5d08e4eb5589",
        "colab": {
          "base_uri": "https://localhost:8080/",
          "height": 34
        }
      },
      "source": [
        "mi_lista = [\"Hola\", \"mundo\", \"bienvenidos\", \"a\", \"un\" \"nuevo\", \"día\", \"lleno\", \"de\", \"aventuras\"]\n",
        "print (list(filter(lambda x: len(x)<=6, mi_lista)))"
      ],
      "execution_count": 3,
      "outputs": [
        {
          "output_type": "stream",
          "text": [
            "['Hola', 'mundo', 'a', 'día', 'lleno', 'de']\n"
          ],
          "name": "stdout"
        }
      ]
    },
    {
      "cell_type": "code",
      "metadata": {
        "id": "9OEXdTsTNJY5",
        "colab_type": "code",
        "outputId": "41822eae-b0a3-4612-9ed9-bd29f77f2fcf",
        "colab": {
          "base_uri": "https://localhost:8080/",
          "height": 34
        }
      },
      "source": [
        "mi_lista = [\"Hola\", \"mundo\", \"bienvenidos\", \"a\", \"un\", \"nuevo\", \"día\", \"lleno\", \"de\", \"aventuras\"]\n",
        "menores_cinco= [x for x in mi_lista if len(x) <= 6]\n",
        "menores_cinco"
      ],
      "execution_count": 4,
      "outputs": [
        {
          "output_type": "execute_result",
          "data": {
            "text/plain": [
              "['Hola', 'mundo', 'a', 'un', 'nuevo', 'día', 'lleno', 'de']"
            ]
          },
          "metadata": {
            "tags": []
          },
          "execution_count": 4
        }
      ]
    },
    {
      "cell_type": "markdown",
      "metadata": {
        "id": "__NZJWFRllE6",
        "colab_type": "text"
      },
      "source": [
        "TRES"
      ]
    },
    {
      "cell_type": "code",
      "metadata": {
        "colab_type": "code",
        "outputId": "dcbc4e69-c233-4695-d75a-380cd6f58ee0",
        "id": "kFCQxKwPQIND",
        "colab": {
          "base_uri": "https://localhost:8080/",
          "height": 34
        }
      },
      "source": [
        "precios_pesos= [20.00, 50.00, 10000.00, 30000.00, 65000.00]\n",
        "precios_dolares= list ( map(lambda x: x*20, precios_pesos) )\n",
        "precios_dolares"
      ],
      "execution_count": 5,
      "outputs": [
        {
          "output_type": "execute_result",
          "data": {
            "text/plain": [
              "[400.0, 1000.0, 200000.0, 600000.0, 1300000.0]"
            ]
          },
          "metadata": {
            "tags": []
          },
          "execution_count": 5
        }
      ]
    },
    {
      "cell_type": "code",
      "metadata": {
        "colab_type": "code",
        "outputId": "00ee020e-7afc-402f-f106-7c34b4db19b1",
        "id": "qO69utfyQJVu",
        "colab": {
          "base_uri": "https://localhost:8080/",
          "height": 34
        }
      },
      "source": [
        "precios_pesos= [20.00, 50.00, 10000.00, 30000.00, 65000.00]\n",
        "precios_dolares= [x*20 for x in precios_pesos]\n",
        "precios_dolares"
      ],
      "execution_count": 6,
      "outputs": [
        {
          "output_type": "execute_result",
          "data": {
            "text/plain": [
              "[400.0, 1000.0, 200000.0, 600000.0, 1300000.0]"
            ]
          },
          "metadata": {
            "tags": []
          },
          "execution_count": 6
        }
      ]
    },
    {
      "cell_type": "markdown",
      "metadata": {
        "id": "cjD3Lzq4lqvi",
        "colab_type": "text"
      },
      "source": [
        "PARTE DOS. EJERCICIO WEB SCRAPPING"
      ]
    },
    {
      "cell_type": "code",
      "metadata": {
        "id": "Ply8I7bcmSgl",
        "colab_type": "code",
        "colab": {}
      },
      "source": [
        "import requests\n",
        "from bs4 import BeautifulSoup\n",
        "import pandas as pd\n",
        "\n",
        "sitio = requests.get(\"https://hogar.mercadolibre.com.mx/muebles-sillas-sillones-banquetas-sofas/\")\n",
        "the_soup = BeautifulSoup(sitio.text , \"lxml\")"
      ],
      "execution_count": 0,
      "outputs": []
    },
    {
      "cell_type": "code",
      "metadata": {
        "id": "2gh6_4NDqQx1",
        "colab_type": "code",
        "colab": {}
      },
      "source": [
        "articulos = the_soup.find_all(\"li\", class_=\"results-item\")\n"
      ],
      "execution_count": 0,
      "outputs": []
    },
    {
      "cell_type": "code",
      "metadata": {
        "colab_type": "code",
        "id": "hMof6TlrmH1W",
        "colab": {}
      },
      "source": [
        "lista_ofertas=[]\n",
        "lista_precios=[]\n",
        "lista_articulos=[]\n",
        "\n",
        "for a in articulos:\n",
        "  lista_articulos.append(a.find('span', class_=\"main-title\").get_text() )\n",
        "\n",
        "for a in articulos:\n",
        "  if a.find(class_=\"price__fraction\") != \"\" :\n",
        "    lista_ofertas.append(a.find('span', class_=\"price__fraction\").get_text() )\n",
        "\n",
        "for a in articulos:\n",
        "  if a.find('del') !=None:\n",
        "    lista_precios.append(a.find('span', class_=\"price-old\").get_text() )\n",
        "  else:\n",
        "    lista_precios.append(\"No aplica\")  \n",
        "\n"
      ],
      "execution_count": 0,
      "outputs": []
    },
    {
      "cell_type": "markdown",
      "metadata": {
        "id": "3tzPpjP6Zmog",
        "colab_type": "text"
      },
      "source": [
        "PRIMER DATA FRAME"
      ]
    },
    {
      "cell_type": "code",
      "metadata": {
        "colab_type": "code",
        "id": "WLKnMXXz9-wQ",
        "outputId": "bc9b339f-a7d2-4276-a708-ffc892374802",
        "colab": {
          "base_uri": "https://localhost:8080/",
          "height": 204
        }
      },
      "source": [
        "tabla = pd.DataFrame( {\"ARTICULO\":lista_articulos, \"PRECIO OFERTA\":lista_ofertas, \"PRECIO NORMAL\":lista_precios} )\n",
        "tabla.head()\n"
      ],
      "execution_count": 104,
      "outputs": [
        {
          "output_type": "execute_result",
          "data": {
            "text/html": [
              "<div>\n",
              "<style scoped>\n",
              "    .dataframe tbody tr th:only-of-type {\n",
              "        vertical-align: middle;\n",
              "    }\n",
              "\n",
              "    .dataframe tbody tr th {\n",
              "        vertical-align: top;\n",
              "    }\n",
              "\n",
              "    .dataframe thead th {\n",
              "        text-align: right;\n",
              "    }\n",
              "</style>\n",
              "<table border=\"1\" class=\"dataframe\">\n",
              "  <thead>\n",
              "    <tr style=\"text-align: right;\">\n",
              "      <th></th>\n",
              "      <th>ARTICULO</th>\n",
              "      <th>PRECIO OFERTA</th>\n",
              "      <th>PRECIO NORMAL</th>\n",
              "    </tr>\n",
              "  </thead>\n",
              "  <tbody>\n",
              "    <tr>\n",
              "      <th>0</th>\n",
              "      <td>Mueble Sala Sofa Cama Salas Esquinera Nuova H...</td>\n",
              "      <td>6,590</td>\n",
              "      <td>$ 8,990</td>\n",
              "    </tr>\n",
              "    <tr>\n",
              "      <th>1</th>\n",
              "      <td>Sillon Reposet Reclinable Durango Maximo Conf...</td>\n",
              "      <td>3,990</td>\n",
              "      <td>$ 8,474</td>\n",
              "    </tr>\n",
              "    <tr>\n",
              "      <th>2</th>\n",
              "      <td>Práctico Sofá Cama, Dos Camas En Uno. Leer De...</td>\n",
              "      <td>3,695</td>\n",
              "      <td>No aplica</td>\n",
              "    </tr>\n",
              "    <tr>\n",
              "      <th>3</th>\n",
              "      <td>Muebles Salas En Esquina Sala Esquinera Españ...</td>\n",
              "      <td>8,825</td>\n",
              "      <td>$ 9,290</td>\n",
              "    </tr>\n",
              "    <tr>\n",
              "      <th>4</th>\n",
              "      <td>Sofa Cama Varias Posiciones Sillon Minimalist...</td>\n",
              "      <td>2,359</td>\n",
              "      <td>No aplica</td>\n",
              "    </tr>\n",
              "  </tbody>\n",
              "</table>\n",
              "</div>"
            ],
            "text/plain": [
              "                                            ARTICULO  ... PRECIO NORMAL\n",
              "0   Mueble Sala Sofa Cama Salas Esquinera Nuova H...  ...     $ 8,990  \n",
              "1   Sillon Reposet Reclinable Durango Maximo Conf...  ...     $ 8,474  \n",
              "2   Práctico Sofá Cama, Dos Camas En Uno. Leer De...  ...     No aplica\n",
              "3   Muebles Salas En Esquina Sala Esquinera Españ...  ...     $ 9,290  \n",
              "4   Sofa Cama Varias Posiciones Sillon Minimalist...  ...     No aplica\n",
              "\n",
              "[5 rows x 3 columns]"
            ]
          },
          "metadata": {
            "tags": []
          },
          "execution_count": 104
        }
      ]
    },
    {
      "cell_type": "markdown",
      "metadata": {
        "id": "aXdLadjuZ07D",
        "colab_type": "text"
      },
      "source": [
        "SEGUNDO DATA FRAME CON DATOS FLOAT"
      ]
    },
    {
      "cell_type": "code",
      "metadata": {
        "id": "jeHwDzQYx3d6",
        "colab_type": "code",
        "colab": {}
      },
      "source": [
        "import re\n",
        "import string\n",
        "\n",
        "def convertidor (lista):\n",
        "\n",
        " lista_limpia =[] \n",
        " for x in lista:\n",
        "     x=re.sub (',', \"\", x) \n",
        "     lista_limpia.append(x)\n",
        "\n",
        " listaFloat= [float(x) for x in lista_limpia]\n",
        "\n",
        " \n",
        " return listaFloat\n"
      ],
      "execution_count": 0,
      "outputs": []
    },
    {
      "cell_type": "code",
      "metadata": {
        "id": "sCvTA6WwQqJN",
        "colab_type": "code",
        "colab": {}
      },
      "source": [
        "import re\n",
        "import string\n",
        "\n",
        "def convertidorConHuecos(lista):\n",
        "\n",
        "  lista_float = []\n",
        "\n",
        "  for x in lista:\n",
        "    if x !=\"No aplica\":\n",
        "      x = re.sub (',', \"\", x)\n",
        "      x= x[4:]\n",
        "      x= float(x)\n",
        "      lista_float.append(x)\n",
        "    else:\n",
        "     lista_float.append(\"No aplica\")\n",
        "\n",
        "  return lista_float"
      ],
      "execution_count": 0,
      "outputs": []
    },
    {
      "cell_type": "code",
      "metadata": {
        "id": "uhBbJfl1KhzK",
        "colab_type": "code",
        "colab": {}
      },
      "source": [
        "#ofertas_float = convertidor (lista_ofertas)\n",
        "precios_float = convertidorConHuecos (lista_precios)\n",
        "print (precios_float)\n",
        "len (precios_float)\n"
      ],
      "execution_count": 0,
      "outputs": []
    },
    {
      "cell_type": "code",
      "metadata": {
        "id": "nTnnGXB7YVGC",
        "colab_type": "code",
        "outputId": "ec16a473-53b6-4e4f-bdd5-17122e381a18",
        "colab": {
          "base_uri": "https://localhost:8080/",
          "height": 204
        }
      },
      "source": [
        "tabla = pd.DataFrame( {\"ARTICULO\":lista_articulos, \"PRECIO OFERTA\":ofertas_float, \"PRECIO NORMAL\":precios_float} )\n",
        "tabla.head()"
      ],
      "execution_count": 113,
      "outputs": [
        {
          "output_type": "execute_result",
          "data": {
            "text/html": [
              "<div>\n",
              "<style scoped>\n",
              "    .dataframe tbody tr th:only-of-type {\n",
              "        vertical-align: middle;\n",
              "    }\n",
              "\n",
              "    .dataframe tbody tr th {\n",
              "        vertical-align: top;\n",
              "    }\n",
              "\n",
              "    .dataframe thead th {\n",
              "        text-align: right;\n",
              "    }\n",
              "</style>\n",
              "<table border=\"1\" class=\"dataframe\">\n",
              "  <thead>\n",
              "    <tr style=\"text-align: right;\">\n",
              "      <th></th>\n",
              "      <th>ARTICULO</th>\n",
              "      <th>PRECIO OFERTA</th>\n",
              "      <th>PRECIO NORMAL</th>\n",
              "    </tr>\n",
              "  </thead>\n",
              "  <tbody>\n",
              "    <tr>\n",
              "      <th>0</th>\n",
              "      <td>Mueble Sala Sofa Cama Salas Esquinera Nuova H...</td>\n",
              "      <td>6590.0</td>\n",
              "      <td>8990</td>\n",
              "    </tr>\n",
              "    <tr>\n",
              "      <th>1</th>\n",
              "      <td>Sillon Reposet Reclinable Durango Maximo Conf...</td>\n",
              "      <td>3990.0</td>\n",
              "      <td>8474</td>\n",
              "    </tr>\n",
              "    <tr>\n",
              "      <th>2</th>\n",
              "      <td>Práctico Sofá Cama, Dos Camas En Uno. Leer De...</td>\n",
              "      <td>3695.0</td>\n",
              "      <td>No aplica</td>\n",
              "    </tr>\n",
              "    <tr>\n",
              "      <th>3</th>\n",
              "      <td>Muebles Salas En Esquina Sala Esquinera Españ...</td>\n",
              "      <td>8825.0</td>\n",
              "      <td>9290</td>\n",
              "    </tr>\n",
              "    <tr>\n",
              "      <th>4</th>\n",
              "      <td>Sofa Cama Varias Posiciones Sillon Minimalist...</td>\n",
              "      <td>2359.0</td>\n",
              "      <td>No aplica</td>\n",
              "    </tr>\n",
              "  </tbody>\n",
              "</table>\n",
              "</div>"
            ],
            "text/plain": [
              "                                            ARTICULO  ...  PRECIO NORMAL\n",
              "0   Mueble Sala Sofa Cama Salas Esquinera Nuova H...  ...           8990\n",
              "1   Sillon Reposet Reclinable Durango Maximo Conf...  ...           8474\n",
              "2   Práctico Sofá Cama, Dos Camas En Uno. Leer De...  ...      No aplica\n",
              "3   Muebles Salas En Esquina Sala Esquinera Españ...  ...           9290\n",
              "4   Sofa Cama Varias Posiciones Sillon Minimalist...  ...      No aplica\n",
              "\n",
              "[5 rows x 3 columns]"
            ]
          },
          "metadata": {
            "tags": []
          },
          "execution_count": 113
        }
      ]
    },
    {
      "cell_type": "markdown",
      "metadata": {
        "id": "O5R4v5kHaML6",
        "colab_type": "text"
      },
      "source": [
        "CONVERSIÓN A DÓLARES"
      ]
    },
    {
      "cell_type": "code",
      "metadata": {
        "id": "tGbKaNhcaklJ",
        "colab_type": "code",
        "colab": {}
      },
      "source": [
        "def dolares(lista):\n",
        " dolares= [x/20 for x in lista]\n",
        " return dolares\n"
      ],
      "execution_count": 0,
      "outputs": []
    },
    {
      "cell_type": "code",
      "metadata": {
        "id": "Pwmkkmg5as_f",
        "colab_type": "code",
        "colab": {}
      },
      "source": [
        "def dolaresListaEspecial(lista):\n",
        " precios_dolares =[] \n",
        " for x in lista:\n",
        "   if x !=\"No aplica\":\n",
        "     x = x/20\n",
        "     precios_dolares.append(x)\n",
        "   else:\n",
        "     precios_dolares.append(\"No aplica\")\n",
        " return precios_dolares\n"
      ],
      "execution_count": 0,
      "outputs": []
    },
    {
      "cell_type": "code",
      "metadata": {
        "id": "f0Nw6VNzUIPh",
        "colab_type": "code",
        "colab": {}
      },
      "source": [
        "ofertas_dolares = dolares(ofertas_float)\n",
        "precio_dolares = dolaresListaEspecial(precios_float)"
      ],
      "execution_count": 0,
      "outputs": []
    },
    {
      "cell_type": "code",
      "metadata": {
        "colab_type": "code",
        "id": "zjJYWZ7XhWtI",
        "colab": {
          "base_uri": "https://localhost:8080/",
          "height": 204
        },
        "outputId": "3db853e6-d833-44c8-dc7b-fec108b509e3"
      },
      "source": [
        "tabla_dólares = pd.DataFrame( {\"ARTICULO\":lista_articulos, \"OFERTA (dólares)\":ofertas_dolares, \"PRECIO LISTA (dólares)\":precio_dolares} )\n",
        "tabla_dólares.head()"
      ],
      "execution_count": 186,
      "outputs": [
        {
          "output_type": "execute_result",
          "data": {
            "text/html": [
              "<div>\n",
              "<style scoped>\n",
              "    .dataframe tbody tr th:only-of-type {\n",
              "        vertical-align: middle;\n",
              "    }\n",
              "\n",
              "    .dataframe tbody tr th {\n",
              "        vertical-align: top;\n",
              "    }\n",
              "\n",
              "    .dataframe thead th {\n",
              "        text-align: right;\n",
              "    }\n",
              "</style>\n",
              "<table border=\"1\" class=\"dataframe\">\n",
              "  <thead>\n",
              "    <tr style=\"text-align: right;\">\n",
              "      <th></th>\n",
              "      <th>ARTICULO</th>\n",
              "      <th>OFERTA (dólares)</th>\n",
              "      <th>PRECIO LISTA (dólares)</th>\n",
              "    </tr>\n",
              "  </thead>\n",
              "  <tbody>\n",
              "    <tr>\n",
              "      <th>0</th>\n",
              "      <td>Mueble Sala Sofa Cama Salas Esquinera Nuova H...</td>\n",
              "      <td>329.50</td>\n",
              "      <td>449.5</td>\n",
              "    </tr>\n",
              "    <tr>\n",
              "      <th>1</th>\n",
              "      <td>Sillon Reposet Reclinable Durango Maximo Conf...</td>\n",
              "      <td>199.50</td>\n",
              "      <td>423.7</td>\n",
              "    </tr>\n",
              "    <tr>\n",
              "      <th>2</th>\n",
              "      <td>Práctico Sofá Cama, Dos Camas En Uno. Leer De...</td>\n",
              "      <td>184.75</td>\n",
              "      <td>No aplica</td>\n",
              "    </tr>\n",
              "    <tr>\n",
              "      <th>3</th>\n",
              "      <td>Muebles Salas En Esquina Sala Esquinera Españ...</td>\n",
              "      <td>441.25</td>\n",
              "      <td>464.5</td>\n",
              "    </tr>\n",
              "    <tr>\n",
              "      <th>4</th>\n",
              "      <td>Sofa Cama Varias Posiciones Sillon Minimalist...</td>\n",
              "      <td>117.95</td>\n",
              "      <td>No aplica</td>\n",
              "    </tr>\n",
              "  </tbody>\n",
              "</table>\n",
              "</div>"
            ],
            "text/plain": [
              "                                            ARTICULO  ...  PRECIO LISTA (dólares)\n",
              "0   Mueble Sala Sofa Cama Salas Esquinera Nuova H...  ...                   449.5\n",
              "1   Sillon Reposet Reclinable Durango Maximo Conf...  ...                   423.7\n",
              "2   Práctico Sofá Cama, Dos Camas En Uno. Leer De...  ...               No aplica\n",
              "3   Muebles Salas En Esquina Sala Esquinera Españ...  ...                   464.5\n",
              "4   Sofa Cama Varias Posiciones Sillon Minimalist...  ...               No aplica\n",
              "\n",
              "[5 rows x 3 columns]"
            ]
          },
          "metadata": {
            "tags": []
          },
          "execution_count": 186
        }
      ]
    },
    {
      "cell_type": "markdown",
      "metadata": {
        "id": "0nUG5RyI243Z",
        "colab_type": "text"
      },
      "source": [
        "CONVERSIÓN A CSV"
      ]
    },
    {
      "cell_type": "code",
      "metadata": {
        "id": "3H_qVy8i3BhM",
        "colab_type": "code",
        "colab": {}
      },
      "source": [
        "tabla_dólares.to_csv(\"tabla_dólares\", header=False, index=False)"
      ],
      "execution_count": 0,
      "outputs": []
    },
    {
      "cell_type": "markdown",
      "metadata": {
        "id": "kcT9Mx1q4ylj",
        "colab_type": "text"
      },
      "source": [
        "CREACION DE DATA FRAME EXTENDIDO A 3 PAGINAS DEL SITIO"
      ]
    },
    {
      "cell_type": "code",
      "metadata": {
        "id": "X3rqs-xH4-Hr",
        "colab_type": "code",
        "colab": {}
      },
      "source": [
        "#PRIMERA PAGINA\n",
        "import requests\n",
        "from bs4 import BeautifulSoup\n",
        "import pandas as pd\n",
        "\n",
        "sitio1 = requests.get(\"https://hogar.mercadolibre.com.mx/muebles-sillas-sillones-bancos/\")\n",
        "the_soup1 = BeautifulSoup(sitio1.text , \"lxml\")"
      ],
      "execution_count": 0,
      "outputs": []
    },
    {
      "cell_type": "code",
      "metadata": {
        "id": "pulfdALt4-iA",
        "colab_type": "code",
        "colab": {}
      },
      "source": [
        "articulos1 = the_soup1.find_all(\"li\", class_=\"results-item\")"
      ],
      "execution_count": 0,
      "outputs": []
    },
    {
      "cell_type": "code",
      "metadata": {
        "id": "tHRsaS0L4-7D",
        "colab_type": "code",
        "colab": {}
      },
      "source": [
        "lista_ofertas1=[]\n",
        "lista_precios1=[]\n",
        "lista_articulos1=[]\n",
        "\n",
        "for a in articulos1:\n",
        "  lista_articulos1.append(a.find('span', class_=\"main-title\").get_text() )\n",
        "\n",
        "for a in articulos1:\n",
        "  if a.find(class_=\"price__fraction\") != \"\" :\n",
        "    lista_ofertas1.append(a.find('span', class_=\"price__fraction\").get_text() )\n",
        "\n",
        "for a in articulos1:\n",
        "  if a.find('del') !=None:\n",
        "    lista_precios1.append(a.find('span', class_=\"price-old\").get_text() )\n",
        "  else:\n",
        "    lista_precios1.append(\"No aplica\")  \n"
      ],
      "execution_count": 0,
      "outputs": []
    },
    {
      "cell_type": "code",
      "metadata": {
        "id": "2Ki3IwTp8o65",
        "colab_type": "code",
        "colab": {
          "base_uri": "https://localhost:8080/",
          "height": 204
        },
        "outputId": "c25e59d9-d7a7-4fa5-88fb-29ee3e6262d9"
      },
      "source": [
        "# DATA FRAME1\n",
        "tabla1 = pd.DataFrame( {\"ARTICULO\":lista_articulos1,  \"PRECIO OFERTA\":lista_ofertas1,  \"PRECIO NORMAL\":lista_precios1} )\n",
        "tabla1.head()"
      ],
      "execution_count": 190,
      "outputs": [
        {
          "output_type": "execute_result",
          "data": {
            "text/html": [
              "<div>\n",
              "<style scoped>\n",
              "    .dataframe tbody tr th:only-of-type {\n",
              "        vertical-align: middle;\n",
              "    }\n",
              "\n",
              "    .dataframe tbody tr th {\n",
              "        vertical-align: top;\n",
              "    }\n",
              "\n",
              "    .dataframe thead th {\n",
              "        text-align: right;\n",
              "    }\n",
              "</style>\n",
              "<table border=\"1\" class=\"dataframe\">\n",
              "  <thead>\n",
              "    <tr style=\"text-align: right;\">\n",
              "      <th></th>\n",
              "      <th>ARTICULO</th>\n",
              "      <th>PRECIO OFERTA</th>\n",
              "      <th>PRECIO NORMAL</th>\n",
              "    </tr>\n",
              "  </thead>\n",
              "  <tbody>\n",
              "    <tr>\n",
              "      <th>0</th>\n",
              "      <td>Silla De Oficina Silla Ejecutiva Base Metalic...</td>\n",
              "      <td>1,029</td>\n",
              "      <td>No aplica</td>\n",
              "    </tr>\n",
              "    <tr>\n",
              "      <th>1</th>\n",
              "      <td>Silla De Oficina Silla Ejecutiva Base Metalic...</td>\n",
              "      <td>1,049</td>\n",
              "      <td>No aplica</td>\n",
              "    </tr>\n",
              "    <tr>\n",
              "      <th>2</th>\n",
              "      <td>Sala Capitonada Vintage En Esquina Linato Gri...</td>\n",
              "      <td>4,999</td>\n",
              "      <td>No aplica</td>\n",
              "    </tr>\n",
              "    <tr>\n",
              "      <th>3</th>\n",
              "      <td>Sillón Reclinable Manual Moderno Brady 5954x</td>\n",
              "      <td>6,399</td>\n",
              "      <td>$ 7,423</td>\n",
              "    </tr>\n",
              "    <tr>\n",
              "      <th>4</th>\n",
              "      <td>Paquete De 4 Sillas Eames Hood Modernas Minim...</td>\n",
              "      <td>3,990</td>\n",
              "      <td>$ 5,640</td>\n",
              "    </tr>\n",
              "  </tbody>\n",
              "</table>\n",
              "</div>"
            ],
            "text/plain": [
              "                                            ARTICULO  ... PRECIO NORMAL\n",
              "0   Silla De Oficina Silla Ejecutiva Base Metalic...  ...     No aplica\n",
              "1   Silla De Oficina Silla Ejecutiva Base Metalic...  ...     No aplica\n",
              "2   Sala Capitonada Vintage En Esquina Linato Gri...  ...     No aplica\n",
              "3      Sillón Reclinable Manual Moderno Brady 5954x   ...     $ 7,423  \n",
              "4   Paquete De 4 Sillas Eames Hood Modernas Minim...  ...     $ 5,640  \n",
              "\n",
              "[5 rows x 3 columns]"
            ]
          },
          "metadata": {
            "tags": []
          },
          "execution_count": 190
        }
      ]
    },
    {
      "cell_type": "code",
      "metadata": {
        "id": "OxPsEKIB6Rjt",
        "colab_type": "code",
        "colab": {}
      },
      "source": [
        "# SEGUNDA PAGINA DEL CATALOGO\n",
        "\n",
        "import requests\n",
        "from bs4 import BeautifulSoup\n",
        "import pandas as pd\n",
        "\n",
        "sitio2 = requests.get(\"https://hogar.mercadolibre.com.mx/muebles-sillas-sillones-bancos/_Desde_51\")\n",
        "the_soup = BeautifulSoup(sitio2.text , \"lxml\")"
      ],
      "execution_count": 0,
      "outputs": []
    },
    {
      "cell_type": "code",
      "metadata": {
        "id": "Su7qc1gY7Llc",
        "colab_type": "code",
        "colab": {}
      },
      "source": [
        "articulos2= the_soup.find_all(\"li\", class_=\"results-item\")\n",
        "lista_ofertas2=[]\n",
        "lista_precios2=[]\n",
        "lista_articulos2=[]\n",
        "\n",
        "for a in articulos2:\n",
        "  lista_articulos2.append(a.find('span', class_=\"main-title\").get_text() )\n",
        "\n",
        "for a in articulos2:\n",
        "  if a.find(class_=\"price__fraction\") != \"\" :\n",
        "    lista_ofertas2.append(a.find('span', class_=\"price__fraction\").get_text() )\n",
        "\n",
        "for a in articulos2:\n",
        "  if a.find('del') != None:\n",
        "    lista_precios2.append(a.find('span', class_=\"price-old\").get_text() )\n",
        "  else:\n",
        "    lista_precios2.append(\"No aplica\")  \n"
      ],
      "execution_count": 0,
      "outputs": []
    },
    {
      "cell_type": "code",
      "metadata": {
        "id": "gPFUahi9A1sm",
        "colab_type": "code",
        "colab": {
          "base_uri": "https://localhost:8080/",
          "height": 204
        },
        "outputId": "f4824c4a-6fc5-47f3-cf61-4ed1e8089e2d"
      },
      "source": [
        "# DATA FRAME2\n",
        "tabla2 = pd.DataFrame( {\"ARTICULO\":lista_articulos2,  \"PRECIO OFERTA\":lista_ofertas2,  \"PRECIO NORMAL\":lista_precios2} )\n",
        "tabla2.head()"
      ],
      "execution_count": 192,
      "outputs": [
        {
          "output_type": "execute_result",
          "data": {
            "text/html": [
              "<div>\n",
              "<style scoped>\n",
              "    .dataframe tbody tr th:only-of-type {\n",
              "        vertical-align: middle;\n",
              "    }\n",
              "\n",
              "    .dataframe tbody tr th {\n",
              "        vertical-align: top;\n",
              "    }\n",
              "\n",
              "    .dataframe thead th {\n",
              "        text-align: right;\n",
              "    }\n",
              "</style>\n",
              "<table border=\"1\" class=\"dataframe\">\n",
              "  <thead>\n",
              "    <tr style=\"text-align: right;\">\n",
              "      <th></th>\n",
              "      <th>ARTICULO</th>\n",
              "      <th>PRECIO OFERTA</th>\n",
              "      <th>PRECIO NORMAL</th>\n",
              "    </tr>\n",
              "  </thead>\n",
              "  <tbody>\n",
              "    <tr>\n",
              "      <th>0</th>\n",
              "      <td>Silla Eames Hood Comedor Silla Moderna Retro ...</td>\n",
              "      <td>2,290</td>\n",
              "      <td>$ 3,053</td>\n",
              "    </tr>\n",
              "    <tr>\n",
              "      <th>1</th>\n",
              "      <td>Silla Oficina Escritorio Secretarial Silla Er...</td>\n",
              "      <td>899</td>\n",
              "      <td>No aplica</td>\n",
              "    </tr>\n",
              "    <tr>\n",
              "      <th>2</th>\n",
              "      <td>Silla De Oficina Silla Ejecutiva Base Metalic...</td>\n",
              "      <td>1,029</td>\n",
              "      <td>No aplica</td>\n",
              "    </tr>\n",
              "    <tr>\n",
              "      <th>3</th>\n",
              "      <td>Silla Oficina Secretarial Escritorio Respaldo...</td>\n",
              "      <td>829</td>\n",
              "      <td>No aplica</td>\n",
              "    </tr>\n",
              "    <tr>\n",
              "      <th>4</th>\n",
              "      <td>Sofa Cama Individual Sofacama Salas Mobydec H...</td>\n",
              "      <td>5,215</td>\n",
              "      <td>$ 5,490</td>\n",
              "    </tr>\n",
              "  </tbody>\n",
              "</table>\n",
              "</div>"
            ],
            "text/plain": [
              "                                            ARTICULO  ... PRECIO NORMAL\n",
              "0   Silla Eames Hood Comedor Silla Moderna Retro ...  ...     $ 3,053  \n",
              "1   Silla Oficina Escritorio Secretarial Silla Er...  ...     No aplica\n",
              "2   Silla De Oficina Silla Ejecutiva Base Metalic...  ...     No aplica\n",
              "3   Silla Oficina Secretarial Escritorio Respaldo...  ...     No aplica\n",
              "4   Sofa Cama Individual Sofacama Salas Mobydec H...  ...     $ 5,490  \n",
              "\n",
              "[5 rows x 3 columns]"
            ]
          },
          "metadata": {
            "tags": []
          },
          "execution_count": 192
        }
      ]
    },
    {
      "cell_type": "code",
      "metadata": {
        "id": "0f3ysWQNBcV_",
        "colab_type": "code",
        "colab": {}
      },
      "source": [
        "# TERCERA PAGINA DEL CATALOGO\n",
        "\n",
        "import requests\n",
        "from bs4 import BeautifulSoup\n",
        "import pandas as pd\n",
        "\n",
        "sitio3 = requests.get(\"https://hogar.mercadolibre.com.mx/muebles-sillas-sillones-bancos/_Desde_101\")\n",
        "the_soup = BeautifulSoup(sitio3.text , \"lxml\")\n",
        "\n",
        "articulos3= the_soup.find_all(\"li\", class_=\"results-item\")\n",
        "lista_ofertas3=[]\n",
        "lista_precios3=[]\n",
        "lista_articulos3=[]\n",
        "\n",
        "for a in articulos3:\n",
        "  lista_articulos3.append(a.find('span', class_=\"main-title\").get_text() )\n",
        "\n",
        "for a in articulos3:\n",
        "  if a.find(class_=\"price__fraction\") != \"\" :\n",
        "    lista_ofertas3.append(a.find('span', class_=\"price__fraction\").get_text() )\n",
        "\n",
        "for a in articulos3:\n",
        "  if a.find('del') != None:\n",
        "    lista_precios3.append(a.find('span', class_=\"price-old\").get_text() )\n",
        "  else:\n",
        "    lista_precios3.append(\"No aplica\")  \n"
      ],
      "execution_count": 0,
      "outputs": []
    },
    {
      "cell_type": "code",
      "metadata": {
        "id": "nrwf21jvCUuF",
        "colab_type": "code",
        "colab": {
          "base_uri": "https://localhost:8080/",
          "height": 204
        },
        "outputId": "8b0de9f2-cee1-45a0-9022-a1bbbad5b98f"
      },
      "source": [
        "# DATA FRAME3\n",
        "tabla3= pd.DataFrame( {\"ARTICULO\":lista_articulos3,  \"PRECIO OFERTA\":lista_ofertas3,  \"PRECIO NORMAL\":lista_precios3} )\n",
        "tabla3.head()"
      ],
      "execution_count": 193,
      "outputs": [
        {
          "output_type": "execute_result",
          "data": {
            "text/html": [
              "<div>\n",
              "<style scoped>\n",
              "    .dataframe tbody tr th:only-of-type {\n",
              "        vertical-align: middle;\n",
              "    }\n",
              "\n",
              "    .dataframe tbody tr th {\n",
              "        vertical-align: top;\n",
              "    }\n",
              "\n",
              "    .dataframe thead th {\n",
              "        text-align: right;\n",
              "    }\n",
              "</style>\n",
              "<table border=\"1\" class=\"dataframe\">\n",
              "  <thead>\n",
              "    <tr style=\"text-align: right;\">\n",
              "      <th></th>\n",
              "      <th>ARTICULO</th>\n",
              "      <th>PRECIO OFERTA</th>\n",
              "      <th>PRECIO NORMAL</th>\n",
              "    </tr>\n",
              "  </thead>\n",
              "  <tbody>\n",
              "    <tr>\n",
              "      <th>0</th>\n",
              "      <td>Sillas Cromwell Azul Oscuro 2 Unidades</td>\n",
              "      <td>3,122</td>\n",
              "      <td>No aplica</td>\n",
              "    </tr>\n",
              "    <tr>\n",
              "      <th>1</th>\n",
              "      <td>Salas Esquineras Modernas Gales Lino + 3 Tabu...</td>\n",
              "      <td>8,526</td>\n",
              "      <td>$ 16,227</td>\n",
              "    </tr>\n",
              "    <tr>\n",
              "      <th>2</th>\n",
              "      <td>Sillón Individual Ocasional Romania + Envió G...</td>\n",
              "      <td>2,890</td>\n",
              "      <td>$ 4,097</td>\n",
              "    </tr>\n",
              "    <tr>\n",
              "      <th>3</th>\n",
              "      <td>Sillon Reclinable, Doble, Innova, Mobydec Mue...</td>\n",
              "      <td>8,065</td>\n",
              "      <td>$ 8,490</td>\n",
              "    </tr>\n",
              "    <tr>\n",
              "      <th>4</th>\n",
              "      <td>Sillon Reposet Reclinable Durango Maximo Conf...</td>\n",
              "      <td>3,990</td>\n",
              "      <td>$ 8,474</td>\n",
              "    </tr>\n",
              "  </tbody>\n",
              "</table>\n",
              "</div>"
            ],
            "text/plain": [
              "                                            ARTICULO  ... PRECIO NORMAL\n",
              "0            Sillas Cromwell Azul Oscuro 2 Unidades   ...     No aplica\n",
              "1   Salas Esquineras Modernas Gales Lino + 3 Tabu...  ...    $ 16,227  \n",
              "2   Sillón Individual Ocasional Romania + Envió G...  ...     $ 4,097  \n",
              "3   Sillon Reclinable, Doble, Innova, Mobydec Mue...  ...     $ 8,490  \n",
              "4   Sillon Reposet Reclinable Durango Maximo Conf...  ...     $ 8,474  \n",
              "\n",
              "[5 rows x 3 columns]"
            ]
          },
          "metadata": {
            "tags": []
          },
          "execution_count": 193
        }
      ]
    },
    {
      "cell_type": "code",
      "metadata": {
        "id": "OI93i8H4CnXo",
        "colab_type": "code",
        "colab": {
          "base_uri": "https://localhost:8080/",
          "height": 419
        },
        "outputId": "c51b79a3-63da-45b3-905f-fae949d8a200"
      },
      "source": [
        "# CONCATENACIÓN DE TABLAS\n",
        "\n",
        "tabla_extendida= pd.concat([tabla1, tabla2, tabla3])\n",
        "tabla_extendida"
      ],
      "execution_count": 194,
      "outputs": [
        {
          "output_type": "execute_result",
          "data": {
            "text/html": [
              "<div>\n",
              "<style scoped>\n",
              "    .dataframe tbody tr th:only-of-type {\n",
              "        vertical-align: middle;\n",
              "    }\n",
              "\n",
              "    .dataframe tbody tr th {\n",
              "        vertical-align: top;\n",
              "    }\n",
              "\n",
              "    .dataframe thead th {\n",
              "        text-align: right;\n",
              "    }\n",
              "</style>\n",
              "<table border=\"1\" class=\"dataframe\">\n",
              "  <thead>\n",
              "    <tr style=\"text-align: right;\">\n",
              "      <th></th>\n",
              "      <th>ARTICULO</th>\n",
              "      <th>PRECIO OFERTA</th>\n",
              "      <th>PRECIO NORMAL</th>\n",
              "    </tr>\n",
              "  </thead>\n",
              "  <tbody>\n",
              "    <tr>\n",
              "      <th>0</th>\n",
              "      <td>Silla De Oficina Silla Ejecutiva Base Metalic...</td>\n",
              "      <td>1,029</td>\n",
              "      <td>No aplica</td>\n",
              "    </tr>\n",
              "    <tr>\n",
              "      <th>1</th>\n",
              "      <td>Silla De Oficina Silla Ejecutiva Base Metalic...</td>\n",
              "      <td>1,049</td>\n",
              "      <td>No aplica</td>\n",
              "    </tr>\n",
              "    <tr>\n",
              "      <th>2</th>\n",
              "      <td>Sala Capitonada Vintage En Esquina Linato Gri...</td>\n",
              "      <td>4,999</td>\n",
              "      <td>No aplica</td>\n",
              "    </tr>\n",
              "    <tr>\n",
              "      <th>3</th>\n",
              "      <td>Sillón Reclinable Manual Moderno Brady 5954x</td>\n",
              "      <td>6,399</td>\n",
              "      <td>$ 7,423</td>\n",
              "    </tr>\n",
              "    <tr>\n",
              "      <th>4</th>\n",
              "      <td>Paquete De 4 Sillas Eames Hood Modernas Minim...</td>\n",
              "      <td>3,990</td>\n",
              "      <td>$ 5,640</td>\n",
              "    </tr>\n",
              "    <tr>\n",
              "      <th>...</th>\n",
              "      <td>...</td>\n",
              "      <td>...</td>\n",
              "      <td>...</td>\n",
              "    </tr>\n",
              "    <tr>\n",
              "      <th>48</th>\n",
              "      <td>Silla Sillon Ejecutivo Gerencial Premium Envi...</td>\n",
              "      <td>1,499</td>\n",
              "      <td>No aplica</td>\n",
              "    </tr>\n",
              "    <tr>\n",
              "      <th>49</th>\n",
              "      <td>Liquidación Sillón Reclinable 10 En 1 De Impo...</td>\n",
              "      <td>12,499</td>\n",
              "      <td>No aplica</td>\n",
              "    </tr>\n",
              "    <tr>\n",
              "      <th>50</th>\n",
              "      <td>Diván Para Psicoterapia Con Envío Gratis A To...</td>\n",
              "      <td>8,390</td>\n",
              "      <td>No aplica</td>\n",
              "    </tr>\n",
              "    <tr>\n",
              "      <th>51</th>\n",
              "      <td>Sofa-cama Futon, Tres Posiciones(sofa, Repose...</td>\n",
              "      <td>3,200</td>\n",
              "      <td>No aplica</td>\n",
              "    </tr>\n",
              "    <tr>\n",
              "      <th>52</th>\n",
              "      <td>Sofa Cama Matrimonial Moderno En Tela Mobydec...</td>\n",
              "      <td>9,990</td>\n",
              "      <td>No aplica</td>\n",
              "    </tr>\n",
              "  </tbody>\n",
              "</table>\n",
              "<p>165 rows × 3 columns</p>\n",
              "</div>"
            ],
            "text/plain": [
              "                                             ARTICULO  ... PRECIO NORMAL\n",
              "0    Silla De Oficina Silla Ejecutiva Base Metalic...  ...     No aplica\n",
              "1    Silla De Oficina Silla Ejecutiva Base Metalic...  ...     No aplica\n",
              "2    Sala Capitonada Vintage En Esquina Linato Gri...  ...     No aplica\n",
              "3       Sillón Reclinable Manual Moderno Brady 5954x   ...     $ 7,423  \n",
              "4    Paquete De 4 Sillas Eames Hood Modernas Minim...  ...     $ 5,640  \n",
              "..                                                ...  ...           ...\n",
              "48   Silla Sillon Ejecutivo Gerencial Premium Envi...  ...     No aplica\n",
              "49   Liquidación Sillón Reclinable 10 En 1 De Impo...  ...     No aplica\n",
              "50   Diván Para Psicoterapia Con Envío Gratis A To...  ...     No aplica\n",
              "51   Sofa-cama Futon, Tres Posiciones(sofa, Repose...  ...     No aplica\n",
              "52   Sofa Cama Matrimonial Moderno En Tela Mobydec...  ...     No aplica\n",
              "\n",
              "[165 rows x 3 columns]"
            ]
          },
          "metadata": {
            "tags": []
          },
          "execution_count": 194
        }
      ]
    },
    {
      "cell_type": "markdown",
      "metadata": {
        "id": "XsmMq7yODTlk",
        "colab_type": "text"
      },
      "source": [
        " 9. DATA FRAME CON LA CONVERSIÓN DE COLUMNAS A TIPO FLOAT"
      ]
    },
    {
      "cell_type": "code",
      "metadata": {
        "id": "brbK5FnqDcmz",
        "colab_type": "code",
        "colab": {
          "base_uri": "https://localhost:8080/",
          "height": 419
        },
        "outputId": "a24082bc-f7d7-4aaf-d71b-c32fd4a43829"
      },
      "source": [
        "ofertas_float1 = convertidor(lista_ofertas1)\n",
        "ofertas_float2 = convertidor(lista_ofertas2)\n",
        "ofertas_float3 = convertidor(lista_ofertas3)\n",
        "precios_float1 = convertidorConHuecos(lista_precios1)\n",
        "precios_float2 = convertidorConHuecos(lista_precios2)\n",
        "precios_float3 = convertidorConHuecos(lista_precios3)\n",
        "tabla1_float = pd.DataFrame( {\"ARTICULO\":lista_articulos1,  \"PRECIO OFERTA\":ofertas_float1,  \"PRECIO NORMAL\":precios_float1} )\n",
        "tabla2_float = pd.DataFrame( {\"ARTICULO\":lista_articulos2,  \"PRECIO OFERTA\":ofertas_float2,  \"PRECIO NORMAL\":precios_float2} )\n",
        "tabla3_float = pd.DataFrame( {\"ARTICULO\":lista_articulos3,  \"PRECIO OFERTA\":ofertas_float3,  \"PRECIO NORMAL\":precios_float3} )\n",
        "tabla_extendidaFloat = pd.concat([tabla1_float, tabla2_float, tabla3_float])\n",
        "tabla_extendidaFloat"
      ],
      "execution_count": 195,
      "outputs": [
        {
          "output_type": "execute_result",
          "data": {
            "text/html": [
              "<div>\n",
              "<style scoped>\n",
              "    .dataframe tbody tr th:only-of-type {\n",
              "        vertical-align: middle;\n",
              "    }\n",
              "\n",
              "    .dataframe tbody tr th {\n",
              "        vertical-align: top;\n",
              "    }\n",
              "\n",
              "    .dataframe thead th {\n",
              "        text-align: right;\n",
              "    }\n",
              "</style>\n",
              "<table border=\"1\" class=\"dataframe\">\n",
              "  <thead>\n",
              "    <tr style=\"text-align: right;\">\n",
              "      <th></th>\n",
              "      <th>ARTICULO</th>\n",
              "      <th>PRECIO OFERTA</th>\n",
              "      <th>PRECIO NORMAL</th>\n",
              "    </tr>\n",
              "  </thead>\n",
              "  <tbody>\n",
              "    <tr>\n",
              "      <th>0</th>\n",
              "      <td>Silla De Oficina Silla Ejecutiva Base Metalic...</td>\n",
              "      <td>1029.0</td>\n",
              "      <td>No aplica</td>\n",
              "    </tr>\n",
              "    <tr>\n",
              "      <th>1</th>\n",
              "      <td>Silla De Oficina Silla Ejecutiva Base Metalic...</td>\n",
              "      <td>1049.0</td>\n",
              "      <td>No aplica</td>\n",
              "    </tr>\n",
              "    <tr>\n",
              "      <th>2</th>\n",
              "      <td>Sala Capitonada Vintage En Esquina Linato Gri...</td>\n",
              "      <td>4999.0</td>\n",
              "      <td>No aplica</td>\n",
              "    </tr>\n",
              "    <tr>\n",
              "      <th>3</th>\n",
              "      <td>Sillón Reclinable Manual Moderno Brady 5954x</td>\n",
              "      <td>6399.0</td>\n",
              "      <td>7423</td>\n",
              "    </tr>\n",
              "    <tr>\n",
              "      <th>4</th>\n",
              "      <td>Paquete De 4 Sillas Eames Hood Modernas Minim...</td>\n",
              "      <td>3990.0</td>\n",
              "      <td>5640</td>\n",
              "    </tr>\n",
              "    <tr>\n",
              "      <th>...</th>\n",
              "      <td>...</td>\n",
              "      <td>...</td>\n",
              "      <td>...</td>\n",
              "    </tr>\n",
              "    <tr>\n",
              "      <th>48</th>\n",
              "      <td>Silla Sillon Ejecutivo Gerencial Premium Envi...</td>\n",
              "      <td>1499.0</td>\n",
              "      <td>No aplica</td>\n",
              "    </tr>\n",
              "    <tr>\n",
              "      <th>49</th>\n",
              "      <td>Liquidación Sillón Reclinable 10 En 1 De Impo...</td>\n",
              "      <td>12499.0</td>\n",
              "      <td>No aplica</td>\n",
              "    </tr>\n",
              "    <tr>\n",
              "      <th>50</th>\n",
              "      <td>Diván Para Psicoterapia Con Envío Gratis A To...</td>\n",
              "      <td>8390.0</td>\n",
              "      <td>No aplica</td>\n",
              "    </tr>\n",
              "    <tr>\n",
              "      <th>51</th>\n",
              "      <td>Sofa-cama Futon, Tres Posiciones(sofa, Repose...</td>\n",
              "      <td>3200.0</td>\n",
              "      <td>No aplica</td>\n",
              "    </tr>\n",
              "    <tr>\n",
              "      <th>52</th>\n",
              "      <td>Sofa Cama Matrimonial Moderno En Tela Mobydec...</td>\n",
              "      <td>9990.0</td>\n",
              "      <td>No aplica</td>\n",
              "    </tr>\n",
              "  </tbody>\n",
              "</table>\n",
              "<p>165 rows × 3 columns</p>\n",
              "</div>"
            ],
            "text/plain": [
              "                                             ARTICULO  ...  PRECIO NORMAL\n",
              "0    Silla De Oficina Silla Ejecutiva Base Metalic...  ...      No aplica\n",
              "1    Silla De Oficina Silla Ejecutiva Base Metalic...  ...      No aplica\n",
              "2    Sala Capitonada Vintage En Esquina Linato Gri...  ...      No aplica\n",
              "3       Sillón Reclinable Manual Moderno Brady 5954x   ...           7423\n",
              "4    Paquete De 4 Sillas Eames Hood Modernas Minim...  ...           5640\n",
              "..                                                ...  ...            ...\n",
              "48   Silla Sillon Ejecutivo Gerencial Premium Envi...  ...      No aplica\n",
              "49   Liquidación Sillón Reclinable 10 En 1 De Impo...  ...      No aplica\n",
              "50   Diván Para Psicoterapia Con Envío Gratis A To...  ...      No aplica\n",
              "51   Sofa-cama Futon, Tres Posiciones(sofa, Repose...  ...      No aplica\n",
              "52   Sofa Cama Matrimonial Moderno En Tela Mobydec...  ...      No aplica\n",
              "\n",
              "[165 rows x 3 columns]"
            ]
          },
          "metadata": {
            "tags": []
          },
          "execution_count": 195
        }
      ]
    },
    {
      "cell_type": "markdown",
      "metadata": {
        "id": "38TAY6ltY9Nu",
        "colab_type": "text"
      },
      "source": [
        "10. CREACION DE DATA FRAME EXTENDIDO CON VALORES EN DOLARES"
      ]
    },
    {
      "cell_type": "code",
      "metadata": {
        "id": "MzHIR9_1ZNT6",
        "colab_type": "code",
        "colab": {
          "base_uri": "https://localhost:8080/",
          "height": 419
        },
        "outputId": "ccfe7225-cfb7-40b5-fae2-ba87ea8d3c38"
      },
      "source": [
        "dolares1 = dolares(ofertas_float1)\n",
        "dolares2 = dolares(ofertas_float2)\n",
        "dolares3 = dolares(ofertas_float3)\n",
        "precios_dolares1 = dolaresListaEspecial(precios_float1) \n",
        "precios_dolares2 = dolaresListaEspecial(precios_float2) \n",
        "precios_dolares3 = dolaresListaEspecial(precios_float3)\n",
        "tabla1_dolares = pd.DataFrame( {\"ARTICULO\":lista_articulos1,  \"PRECIO OFERTA\":dolares1,  \"PRECIO NORMAL\":precios_dolares1} )\n",
        "tabla2_dolares = pd.DataFrame( {\"ARTICULO\":lista_articulos2,  \"PRECIO OFERTA\":dolares2,  \"PRECIO NORMAL\":precios_dolares2} )\n",
        "tabla3_dolares = pd.DataFrame( {\"ARTICULO\":lista_articulos3,  \"PRECIO OFERTA\":dolares3,  \"PRECIO NORMAL\":precios_dolares3} )\n",
        "tabla_extendidaDolares = pd.concat([tabla1_dolares, tabla2_dolares, tabla3_dolares])\n",
        "tabla_extendidaDolares\n"
      ],
      "execution_count": 196,
      "outputs": [
        {
          "output_type": "execute_result",
          "data": {
            "text/html": [
              "<div>\n",
              "<style scoped>\n",
              "    .dataframe tbody tr th:only-of-type {\n",
              "        vertical-align: middle;\n",
              "    }\n",
              "\n",
              "    .dataframe tbody tr th {\n",
              "        vertical-align: top;\n",
              "    }\n",
              "\n",
              "    .dataframe thead th {\n",
              "        text-align: right;\n",
              "    }\n",
              "</style>\n",
              "<table border=\"1\" class=\"dataframe\">\n",
              "  <thead>\n",
              "    <tr style=\"text-align: right;\">\n",
              "      <th></th>\n",
              "      <th>ARTICULO</th>\n",
              "      <th>PRECIO OFERTA</th>\n",
              "      <th>PRECIO NORMAL</th>\n",
              "    </tr>\n",
              "  </thead>\n",
              "  <tbody>\n",
              "    <tr>\n",
              "      <th>0</th>\n",
              "      <td>Silla De Oficina Silla Ejecutiva Base Metalic...</td>\n",
              "      <td>51.45</td>\n",
              "      <td>No aplica</td>\n",
              "    </tr>\n",
              "    <tr>\n",
              "      <th>1</th>\n",
              "      <td>Silla De Oficina Silla Ejecutiva Base Metalic...</td>\n",
              "      <td>52.45</td>\n",
              "      <td>No aplica</td>\n",
              "    </tr>\n",
              "    <tr>\n",
              "      <th>2</th>\n",
              "      <td>Sala Capitonada Vintage En Esquina Linato Gri...</td>\n",
              "      <td>249.95</td>\n",
              "      <td>No aplica</td>\n",
              "    </tr>\n",
              "    <tr>\n",
              "      <th>3</th>\n",
              "      <td>Sillón Reclinable Manual Moderno Brady 5954x</td>\n",
              "      <td>319.95</td>\n",
              "      <td>371.15</td>\n",
              "    </tr>\n",
              "    <tr>\n",
              "      <th>4</th>\n",
              "      <td>Paquete De 4 Sillas Eames Hood Modernas Minim...</td>\n",
              "      <td>199.50</td>\n",
              "      <td>282</td>\n",
              "    </tr>\n",
              "    <tr>\n",
              "      <th>...</th>\n",
              "      <td>...</td>\n",
              "      <td>...</td>\n",
              "      <td>...</td>\n",
              "    </tr>\n",
              "    <tr>\n",
              "      <th>48</th>\n",
              "      <td>Silla Sillon Ejecutivo Gerencial Premium Envi...</td>\n",
              "      <td>74.95</td>\n",
              "      <td>No aplica</td>\n",
              "    </tr>\n",
              "    <tr>\n",
              "      <th>49</th>\n",
              "      <td>Liquidación Sillón Reclinable 10 En 1 De Impo...</td>\n",
              "      <td>624.95</td>\n",
              "      <td>No aplica</td>\n",
              "    </tr>\n",
              "    <tr>\n",
              "      <th>50</th>\n",
              "      <td>Diván Para Psicoterapia Con Envío Gratis A To...</td>\n",
              "      <td>419.50</td>\n",
              "      <td>No aplica</td>\n",
              "    </tr>\n",
              "    <tr>\n",
              "      <th>51</th>\n",
              "      <td>Sofa-cama Futon, Tres Posiciones(sofa, Repose...</td>\n",
              "      <td>160.00</td>\n",
              "      <td>No aplica</td>\n",
              "    </tr>\n",
              "    <tr>\n",
              "      <th>52</th>\n",
              "      <td>Sofa Cama Matrimonial Moderno En Tela Mobydec...</td>\n",
              "      <td>499.50</td>\n",
              "      <td>No aplica</td>\n",
              "    </tr>\n",
              "  </tbody>\n",
              "</table>\n",
              "<p>165 rows × 3 columns</p>\n",
              "</div>"
            ],
            "text/plain": [
              "                                             ARTICULO  ...  PRECIO NORMAL\n",
              "0    Silla De Oficina Silla Ejecutiva Base Metalic...  ...      No aplica\n",
              "1    Silla De Oficina Silla Ejecutiva Base Metalic...  ...      No aplica\n",
              "2    Sala Capitonada Vintage En Esquina Linato Gri...  ...      No aplica\n",
              "3       Sillón Reclinable Manual Moderno Brady 5954x   ...         371.15\n",
              "4    Paquete De 4 Sillas Eames Hood Modernas Minim...  ...            282\n",
              "..                                                ...  ...            ...\n",
              "48   Silla Sillon Ejecutivo Gerencial Premium Envi...  ...      No aplica\n",
              "49   Liquidación Sillón Reclinable 10 En 1 De Impo...  ...      No aplica\n",
              "50   Diván Para Psicoterapia Con Envío Gratis A To...  ...      No aplica\n",
              "51   Sofa-cama Futon, Tres Posiciones(sofa, Repose...  ...      No aplica\n",
              "52   Sofa Cama Matrimonial Moderno En Tela Mobydec...  ...      No aplica\n",
              "\n",
              "[165 rows x 3 columns]"
            ]
          },
          "metadata": {
            "tags": []
          },
          "execution_count": 196
        }
      ]
    },
    {
      "cell_type": "markdown",
      "metadata": {
        "id": "HqKVHG9DgkTX",
        "colab_type": "text"
      },
      "source": [
        "11. HISTOGRAMA DE DISTRIBUCIÓN DE PRECIOS EN DOLARES"
      ]
    },
    {
      "cell_type": "code",
      "metadata": {
        "id": "VUXJc4e3m1jZ",
        "colab_type": "code",
        "colab": {
          "base_uri": "https://localhost:8080/",
          "height": 419
        },
        "outputId": "8e8d3135-42da-46ff-a2f0-c21463b73d9f"
      },
      "source": [
        "frame = tabla_extendidaDolares.iloc [:,[0,1] ]\n",
        "frame"
      ],
      "execution_count": 197,
      "outputs": [
        {
          "output_type": "execute_result",
          "data": {
            "text/html": [
              "<div>\n",
              "<style scoped>\n",
              "    .dataframe tbody tr th:only-of-type {\n",
              "        vertical-align: middle;\n",
              "    }\n",
              "\n",
              "    .dataframe tbody tr th {\n",
              "        vertical-align: top;\n",
              "    }\n",
              "\n",
              "    .dataframe thead th {\n",
              "        text-align: right;\n",
              "    }\n",
              "</style>\n",
              "<table border=\"1\" class=\"dataframe\">\n",
              "  <thead>\n",
              "    <tr style=\"text-align: right;\">\n",
              "      <th></th>\n",
              "      <th>ARTICULO</th>\n",
              "      <th>PRECIO OFERTA</th>\n",
              "    </tr>\n",
              "  </thead>\n",
              "  <tbody>\n",
              "    <tr>\n",
              "      <th>0</th>\n",
              "      <td>Silla De Oficina Silla Ejecutiva Base Metalic...</td>\n",
              "      <td>51.45</td>\n",
              "    </tr>\n",
              "    <tr>\n",
              "      <th>1</th>\n",
              "      <td>Silla De Oficina Silla Ejecutiva Base Metalic...</td>\n",
              "      <td>52.45</td>\n",
              "    </tr>\n",
              "    <tr>\n",
              "      <th>2</th>\n",
              "      <td>Sala Capitonada Vintage En Esquina Linato Gri...</td>\n",
              "      <td>249.95</td>\n",
              "    </tr>\n",
              "    <tr>\n",
              "      <th>3</th>\n",
              "      <td>Sillón Reclinable Manual Moderno Brady 5954x</td>\n",
              "      <td>319.95</td>\n",
              "    </tr>\n",
              "    <tr>\n",
              "      <th>4</th>\n",
              "      <td>Paquete De 4 Sillas Eames Hood Modernas Minim...</td>\n",
              "      <td>199.50</td>\n",
              "    </tr>\n",
              "    <tr>\n",
              "      <th>...</th>\n",
              "      <td>...</td>\n",
              "      <td>...</td>\n",
              "    </tr>\n",
              "    <tr>\n",
              "      <th>48</th>\n",
              "      <td>Silla Sillon Ejecutivo Gerencial Premium Envi...</td>\n",
              "      <td>74.95</td>\n",
              "    </tr>\n",
              "    <tr>\n",
              "      <th>49</th>\n",
              "      <td>Liquidación Sillón Reclinable 10 En 1 De Impo...</td>\n",
              "      <td>624.95</td>\n",
              "    </tr>\n",
              "    <tr>\n",
              "      <th>50</th>\n",
              "      <td>Diván Para Psicoterapia Con Envío Gratis A To...</td>\n",
              "      <td>419.50</td>\n",
              "    </tr>\n",
              "    <tr>\n",
              "      <th>51</th>\n",
              "      <td>Sofa-cama Futon, Tres Posiciones(sofa, Repose...</td>\n",
              "      <td>160.00</td>\n",
              "    </tr>\n",
              "    <tr>\n",
              "      <th>52</th>\n",
              "      <td>Sofa Cama Matrimonial Moderno En Tela Mobydec...</td>\n",
              "      <td>499.50</td>\n",
              "    </tr>\n",
              "  </tbody>\n",
              "</table>\n",
              "<p>165 rows × 2 columns</p>\n",
              "</div>"
            ],
            "text/plain": [
              "                                             ARTICULO  PRECIO OFERTA\n",
              "0    Silla De Oficina Silla Ejecutiva Base Metalic...          51.45\n",
              "1    Silla De Oficina Silla Ejecutiva Base Metalic...          52.45\n",
              "2    Sala Capitonada Vintage En Esquina Linato Gri...         249.95\n",
              "3       Sillón Reclinable Manual Moderno Brady 5954x          319.95\n",
              "4    Paquete De 4 Sillas Eames Hood Modernas Minim...         199.50\n",
              "..                                                ...            ...\n",
              "48   Silla Sillon Ejecutivo Gerencial Premium Envi...          74.95\n",
              "49   Liquidación Sillón Reclinable 10 En 1 De Impo...         624.95\n",
              "50   Diván Para Psicoterapia Con Envío Gratis A To...         419.50\n",
              "51   Sofa-cama Futon, Tres Posiciones(sofa, Repose...         160.00\n",
              "52   Sofa Cama Matrimonial Moderno En Tela Mobydec...         499.50\n",
              "\n",
              "[165 rows x 2 columns]"
            ]
          },
          "metadata": {
            "tags": []
          },
          "execution_count": 197
        }
      ]
    },
    {
      "cell_type": "code",
      "metadata": {
        "id": "HUwdF8gHRey8",
        "colab_type": "code",
        "colab": {
          "base_uri": "https://localhost:8080/",
          "height": 282
        },
        "outputId": "7c220538-222b-4818-b428-a59a945ad281"
      },
      "source": [
        "my_histogram = frame [\"PRECIO OFERTA\"]\n",
        "my_histogram.hist(density = 1, histtype =\"stepfilled\" , bins = 20)\n"
      ],
      "execution_count": 198,
      "outputs": [
        {
          "output_type": "execute_result",
          "data": {
            "text/plain": [
              "<matplotlib.axes._subplots.AxesSubplot at 0x7f6b21ce8240>"
            ]
          },
          "metadata": {
            "tags": []
          },
          "execution_count": 198
        },
        {
          "output_type": "display_data",
          "data": {
            "image/png": "[encoded data removed]",
            "text/plain": [
              "<Figure size 432x288 with 1 Axes>"
            ]
          },
          "metadata": {
            "tags": []
          }
        }
      ]
    },
    {
      "cell_type": "code",
      "metadata": {
        "id": "sHlk2VcgTMsr",
        "colab_type": "code",
        "colab": {}
      },
      "source": [
        ""
      ],
      "execution_count": 0,
      "outputs": []
    }
  ]
}