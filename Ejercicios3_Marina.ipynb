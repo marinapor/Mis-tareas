{
  "nbformat": 4,
  "nbformat_minor": 0,
  "metadata": {
    "colab": {
      "name": "Ejercicios3_Marina.ipynb",
      "provenance": [],
      "collapsed_sections": [],
      "authorship_tag": "ABX9TyOSgGc7vBn9zX+a7wKqAg8b",
      "include_colab_link": true
    },
    "kernelspec": {
      "name": "python3",
      "display_name": "Python 3"
    }
  },
  "cells": [
    {
      "cell_type": "markdown",
      "metadata": {
        "id": "view-in-github",
        "colab_type": "text"
      },
      "source": [
        "<a href=\"https://colab.research.google.com/github/marinapor/Mis-tareas/blob/master/Ejercicios3_Marina.ipynb\" target=\"_parent\"><img src=\"https://colab.research.google.com/assets/colab-badge.svg\" alt=\"Open In Colab\"/></a>"
      ]
    },
    {
      "cell_type": "markdown",
      "metadata": {
        "id": "WzevG3ckkqnZ",
        "colab_type": "text"
      },
      "source": [
        "UNO"
      ]
    },
    {
      "cell_type": "code",
      "metadata": {
        "id": "eYD5KpaBkGms",
        "colab_type": "code",
        "outputId": "fcb9757c-97a4-4911-e0d8-ce7e6e00e686",
        "colab": {
          "base_uri": "https://localhost:8080/",
          "height": 34
        }
      },
      "source": [
        "import numpy as np\n",
        "la_version = np.version.version\n",
        "print (la_version)"
      ],
      "execution_count": 1,
      "outputs": [
        {
          "output_type": "stream",
          "text": [
            "1.17.5\n"
          ],
          "name": "stdout"
        }
      ]
    },
    {
      "cell_type": "markdown",
      "metadata": {
        "id": "z7jFvUeCkmAV",
        "colab_type": "text"
      },
      "source": [
        "DOS\n"
      ]
    },
    {
      "cell_type": "code",
      "metadata": {
        "id": "at7214C1kozC",
        "colab_type": "code",
        "outputId": "442d1ada-cd89-470c-e533-2573c8551f74",
        "colab": {
          "base_uri": "https://localhost:8080/",
          "height": 51
        }
      },
      "source": [
        "import numpy as np\n",
        "vector_uno = np.random.randint(0,300,30)\n",
        "print (vector_uno)"
      ],
      "execution_count": 2,
      "outputs": [
        {
          "output_type": "stream",
          "text": [
            "[199  65 116 170  92  88 138  69  47 125  92 298  37  77 265 296 158 265\n",
            " 218 271 143 192 249 232 127 196 209 175 157 286]\n"
          ],
          "name": "stdout"
        }
      ]
    },
    {
      "cell_type": "markdown",
      "metadata": {
        "id": "mDZ3IEOnmax7",
        "colab_type": "text"
      },
      "source": [
        "TRES"
      ]
    },
    {
      "cell_type": "code",
      "metadata": {
        "id": "4qGiJSszmcxq",
        "colab_type": "code",
        "outputId": "f00e58e7-ffb9-43dc-9fc2-2e6b82e3cf2b",
        "colab": {
          "base_uri": "https://localhost:8080/",
          "height": 68
        }
      },
      "source": [
        "import numpy as np\n",
        "multiplos_de3 = vector_uno % 3 == 0\n",
        "print (multiplos_de3)"
      ],
      "execution_count": 3,
      "outputs": [
        {
          "output_type": "stream",
          "text": [
            "[False False False False False False  True  True False False False False\n",
            " False False False False False False False False False  True  True False\n",
            " False False False False False False]\n"
          ],
          "name": "stdout"
        }
      ]
    },
    {
      "cell_type": "markdown",
      "metadata": {
        "id": "yAW3UNbUnL0l",
        "colab_type": "text"
      },
      "source": [
        "CUATRO\n"
      ]
    },
    {
      "cell_type": "code",
      "metadata": {
        "id": "f4wRA8EMnOkh",
        "colab_type": "code",
        "outputId": "3a427d7d-2c24-4a2c-ba07-d0ee2773c8ef",
        "colab": {
          "base_uri": "https://localhost:8080/",
          "height": 34
        }
      },
      "source": [
        "filtro_multiplosD3 = vector_uno [multiplos_de3]\n",
        "print (filtro_multiplosD3)"
      ],
      "execution_count": 4,
      "outputs": [
        {
          "output_type": "stream",
          "text": [
            "[138  69 192 249]\n"
          ],
          "name": "stdout"
        }
      ]
    },
    {
      "cell_type": "markdown",
      "metadata": {
        "id": "mo9QKZUQoUSp",
        "colab_type": "text"
      },
      "source": [
        "CINCO"
      ]
    },
    {
      "cell_type": "code",
      "metadata": {
        "id": "4qwDlGploWPZ",
        "colab_type": "code",
        "outputId": "94e9a1ea-1f07-4ce3-ec7f-b340869bea98",
        "colab": {
          "base_uri": "https://localhost:8080/",
          "height": 68
        }
      },
      "source": [
        "matrizBooleana = multiplos_de3.reshape (3,10)\n",
        "print (matrizBooleana)"
      ],
      "execution_count": 5,
      "outputs": [
        {
          "output_type": "stream",
          "text": [
            "[[False False False False False False  True  True False False]\n",
            " [False False False False False False False False False False]\n",
            " [False  True  True False False False False False False False]]\n"
          ],
          "name": "stdout"
        }
      ]
    },
    {
      "cell_type": "markdown",
      "metadata": {
        "id": "rxaB86vqpXz4",
        "colab_type": "text"
      },
      "source": [
        "SEIS"
      ]
    },
    {
      "cell_type": "code",
      "metadata": {
        "id": "gGpp9t5NpaAA",
        "colab_type": "code",
        "outputId": "ffe5a116-b9ab-453f-e683-84cf7cf5b022",
        "colab": {
          "base_uri": "https://localhost:8080/",
          "height": 34
        }
      },
      "source": [
        "arreglo1=np.arange(4,14)\n",
        "arreglo2=np.arange(7,17)\n",
        "repetidos = []\n",
        "for i in arreglo1:\n",
        "  for j in arreglo2:\n",
        "    if i == j :\n",
        "      repetidos.append(i)\n",
        "print (repetidos)"
      ],
      "execution_count": 6,
      "outputs": [
        {
          "output_type": "stream",
          "text": [
            "[7, 8, 9, 10, 11, 12, 13]\n"
          ],
          "name": "stdout"
        }
      ]
    },
    {
      "cell_type": "markdown",
      "metadata": {
        "id": "l5zj4FV66VJz",
        "colab_type": "text"
      },
      "source": [
        "SIETE\n"
      ]
    },
    {
      "cell_type": "code",
      "metadata": {
        "id": "m9d3K2wA6Xer",
        "colab_type": "code",
        "outputId": "57cae947-b99c-4252-f7ce-0950f31d9a3b",
        "colab": {
          "base_uri": "https://localhost:8080/",
          "height": 85
        }
      },
      "source": [
        "import numpy as np\n",
        "vector_uno = np.random.randint(0,300,30)\n",
        "vector_uno.sort()\n",
        "print(vector_uno)\n",
        "media = np.mean (vector_uno)\n",
        "promedio = np.around(media, decimals=0)\n",
        "print (promedio)\n",
        "valores_medios = []\n",
        "for i in vector_uno:\n",
        "  if i >= promedio-2 and i <= promedio+2:\n",
        "    valores_medios.append(i)\n",
        "print (valores_medios)    \n",
        "\n",
        "\n"
      ],
      "execution_count": 7,
      "outputs": [
        {
          "output_type": "stream",
          "text": [
            "[  0   2   3   6  11  14  16  33  35  50  51  56  58  60  73  90 111 129\n",
            " 134 142 151 154 160 173 196 198 209 289 291 295]\n",
            "106.0\n",
            "[]\n"
          ],
          "name": "stdout"
        }
      ]
    },
    {
      "cell_type": "markdown",
      "metadata": {
        "id": "JN3CLtpk3R1Y",
        "colab_type": "text"
      },
      "source": [
        "OCHO"
      ]
    },
    {
      "cell_type": "code",
      "metadata": {
        "id": "GiQBWtA83Ueg",
        "colab_type": "code",
        "outputId": "3cb01c28-0639-47a6-b032-bf9126dd1061",
        "colab": {
          "base_uri": "https://localhost:8080/",
          "height": 34
        }
      },
      "source": [
        "import numpy as np\n",
        "mi_vector = np.arange (0, 12, dtype=float)\n",
        "redondeo = np.around (mi_vector/3.5 , decimals=3)\n",
        "print(redondeo)"
      ],
      "execution_count": 8,
      "outputs": [
        {
          "output_type": "stream",
          "text": [
            "[0.    0.286 0.571 0.857 1.143 1.429 1.714 2.    2.286 2.571 2.857 3.143]\n"
          ],
          "name": "stdout"
        }
      ]
    },
    {
      "cell_type": "markdown",
      "metadata": {
        "id": "DkhG3p5KdU7o",
        "colab_type": "text"
      },
      "source": [
        "NUEVE"
      ]
    },
    {
      "cell_type": "code",
      "metadata": {
        "id": "hgdwlrK8dXRP",
        "colab_type": "code",
        "outputId": "1f6ce74a-56f2-47b0-9325-72b0216d4588",
        "colab": {
          "base_uri": "https://localhost:8080/",
          "height": 68
        }
      },
      "source": [
        "import numpy as np\n",
        "matriz3D = np.random.randint (0, 8, (3,3))\n",
        "print (matriz3D)"
      ],
      "execution_count": 9,
      "outputs": [
        {
          "output_type": "stream",
          "text": [
            "[[5 2 2]\n",
            " [0 6 3]\n",
            " [5 0 2]]\n"
          ],
          "name": "stdout"
        }
      ]
    },
    {
      "cell_type": "markdown",
      "metadata": {
        "id": "SdAh1h0xetUM",
        "colab_type": "text"
      },
      "source": [
        "DIEZ"
      ]
    },
    {
      "cell_type": "code",
      "metadata": {
        "id": "O77wos9Ae1VZ",
        "colab_type": "code",
        "outputId": "df2cb7ab-264c-488b-acb1-3101f882cb76",
        "colab": {
          "base_uri": "https://localhost:8080/",
          "height": 34
        }
      },
      "source": [
        "import numpy as np\n",
        "mi_arreglo = np.array([1,2,0,0,4])\n",
        "print ( np.where (mi_arreglo != 0) )"
      ],
      "execution_count": 10,
      "outputs": [
        {
          "output_type": "stream",
          "text": [
            "(array([0, 1, 4]),)\n"
          ],
          "name": "stdout"
        }
      ]
    },
    {
      "cell_type": "markdown",
      "metadata": {
        "id": "bDbYBctHlk0G",
        "colab_type": "text"
      },
      "source": [
        "ONCE"
      ]
    },
    {
      "cell_type": "code",
      "metadata": {
        "id": "ogvvk8CLlnAb",
        "colab_type": "code",
        "outputId": "e82a69a2-5b7a-4714-86fd-22a52d7fd930",
        "colab": {
          "base_uri": "https://localhost:8080/",
          "height": 68
        }
      },
      "source": [
        "import numpy as np\n",
        "un_arreglo = np.random.randint(0,200,30)\n",
        "print (un_arreglo)\n",
        "print (np.mean (un_arreglo) )"
      ],
      "execution_count": 11,
      "outputs": [
        {
          "output_type": "stream",
          "text": [
            "[150 192 120 176  72  26  11 194  58 117 182   9 191  47  51 144 173  51\n",
            "  82  84  23  15 171 157  69 110  98  87 125 159]\n",
            "104.8\n"
          ],
          "name": "stdout"
        }
      ]
    },
    {
      "cell_type": "markdown",
      "metadata": {
        "id": "fWkjPWxJf_ow",
        "colab_type": "text"
      },
      "source": [
        "DOCE"
      ]
    },
    {
      "cell_type": "code",
      "metadata": {
        "id": "3lM6yCb8gCjk",
        "colab_type": "code",
        "outputId": "841f8635-8192-4cd2-c66d-17bd3214a56e",
        "colab": {
          "base_uri": "https://localhost:8080/",
          "height": 119
        }
      },
      "source": [
        "import numpy as np\n",
        "matriz_base = np.zeros((6,6))\n",
        "matriz_base[0,:] = [1,1,1,1,1,1]\n",
        "matriz_base[5,:] = [1,1,1,1,1,1]\n",
        "matriz_base[:,0] = [1,1,1,1,1,1]\n",
        "matriz_base[:,5] = [1,1,1,1,1,1]\n",
        "print (matriz_base)"
      ],
      "execution_count": 12,
      "outputs": [
        {
          "output_type": "stream",
          "text": [
            "[[1. 1. 1. 1. 1. 1.]\n",
            " [1. 0. 0. 0. 0. 1.]\n",
            " [1. 0. 0. 0. 0. 1.]\n",
            " [1. 0. 0. 0. 0. 1.]\n",
            " [1. 0. 0. 0. 0. 1.]\n",
            " [1. 1. 1. 1. 1. 1.]]\n"
          ],
          "name": "stdout"
        }
      ]
    },
    {
      "cell_type": "markdown",
      "metadata": {
        "id": "iZ7Xci9ClJaL",
        "colab_type": "text"
      },
      "source": [
        "TRECE"
      ]
    },
    {
      "cell_type": "code",
      "metadata": {
        "id": "YAPjCjlLgsQ1",
        "colab_type": "code",
        "outputId": "5eb34d9b-5b32-45ea-a442-743de3666cb1",
        "colab": {
          "base_uri": "https://localhost:8080/",
          "height": 34
        }
      },
      "source": [
        "import numpy as np\n",
        "0 * np.nan\n",
        "np.nan == np.nan\n",
        "np.inf > np.nan\n",
        "np.nan - np.nan\n",
        "np.nan in set([np.nan])\n",
        "0.3 == 3 * 0.1"
      ],
      "execution_count": 13,
      "outputs": [
        {
          "output_type": "execute_result",
          "data": {
            "text/plain": [
              "False"
            ]
          },
          "metadata": {
            "tags": []
          },
          "execution_count": 13
        }
      ]
    },
    {
      "cell_type": "markdown",
      "metadata": {
        "id": "1JoQhjdlsrsH",
        "colab_type": "text"
      },
      "source": [
        "CATORCE"
      ]
    },
    {
      "cell_type": "code",
      "metadata": {
        "id": "ncwW3ZMQsuIM",
        "colab_type": "code",
        "outputId": "830a8e5f-a18c-436e-e826-bf1f32ab13c8",
        "colab": {
          "base_uri": "https://localhost:8080/",
          "height": 102
        }
      },
      "source": [
        "import numpy as np\n",
        "una_matriz = np.random.randint( 0,20, (5,5) )\n",
        "elementos_cambiados = np.arange (4)\n",
        "una_matriz [elementos_cambiados, elementos_cambiados+1]=[1,2,3,4]\n",
        "print (una_matriz)  "
      ],
      "execution_count": 14,
      "outputs": [
        {
          "output_type": "stream",
          "text": [
            "[[ 1  1  8 17 18]\n",
            " [13 18  2 11  2]\n",
            " [ 7  0  5  3 17]\n",
            " [ 6 16  2 11  4]\n",
            " [ 5  6 14 14 19]]\n"
          ],
          "name": "stdout"
        }
      ]
    },
    {
      "cell_type": "markdown",
      "metadata": {
        "id": "4-ymQ9EmwsMK",
        "colab_type": "text"
      },
      "source": [
        "QUINCE"
      ]
    },
    {
      "cell_type": "code",
      "metadata": {
        "id": "L6o2R6yFwwhD",
        "colab_type": "code",
        "outputId": "42f421e0-ee4c-4b12-c778-62a762237b40",
        "colab": {
          "base_uri": "https://localhost:8080/",
          "height": 187
        }
      },
      "source": [
        "import numpy as np\n",
        "matriz_primera = np.random.randint(0,50,(5,5))\n",
        "print (matriz_primera)\n",
        "minimo = matriz_primera.min()\n",
        "maximo = matriz_primera.max()\n",
        "matriz_normal = (matriz_primera - minimo)/(maximo - minimo)\n",
        "print ( matriz_normal)\n",
        "    \n",
        "\n"
      ],
      "execution_count": 15,
      "outputs": [
        {
          "output_type": "stream",
          "text": [
            "[[38 33 23  7 31]\n",
            " [49  2 20 10 13]\n",
            " [12  1 14 33  7]\n",
            " [48 47  6  5 19]\n",
            " [25 47 12 49 41]]\n",
            "[[0.77083333 0.66666667 0.45833333 0.125      0.625     ]\n",
            " [1.         0.02083333 0.39583333 0.1875     0.25      ]\n",
            " [0.22916667 0.         0.27083333 0.66666667 0.125     ]\n",
            " [0.97916667 0.95833333 0.10416667 0.08333333 0.375     ]\n",
            " [0.5        0.95833333 0.22916667 1.         0.83333333]]\n"
          ],
          "name": "stdout"
        }
      ]
    },
    {
      "cell_type": "markdown",
      "metadata": {
        "id": "0mDvqI8HThfV",
        "colab_type": "text"
      },
      "source": [
        "SECCION DOS: PANDAS"
      ]
    },
    {
      "cell_type": "markdown",
      "metadata": {
        "id": "ifH0Str8TnPr",
        "colab_type": "text"
      },
      "source": [
        "UNO\n"
      ]
    },
    {
      "cell_type": "code",
      "metadata": {
        "id": "DataIT4bTpi5",
        "colab_type": "code",
        "colab": {
          "base_uri": "https://localhost:8080/",
          "height": 34
        },
        "outputId": "26d58f13-5695-4ba1-dca3-89739eaba3e9"
      },
      "source": [
        "import pandas as pd\n",
        "print('pandas: {}'.format(pd.__version__))\n"
      ],
      "execution_count": 16,
      "outputs": [
        {
          "output_type": "stream",
          "text": [
            "pandas: 0.25.3\n"
          ],
          "name": "stdout"
        }
      ]
    },
    {
      "cell_type": "code",
      "metadata": {
        "id": "EC2PdqVUaCK_",
        "colab_type": "code",
        "colab": {
          "base_uri": "https://localhost:8080/",
          "height": 207
        },
        "outputId": "425e4f91-a635-4815-f69f-bdf2624fb99e"
      },
      "source": [
        "pip show pandas\n"
      ],
      "execution_count": 17,
      "outputs": [
        {
          "output_type": "stream",
          "text": [
            "Name: pandas\n",
            "Version: 0.25.3\n",
            "Summary: Powerful data structures for data analysis, time series, and statistics\n",
            "Home-page: http://pandas.pydata.org\n",
            "Author: None\n",
            "Author-email: None\n",
            "License: BSD\n",
            "Location: /usr/local/lib/python3.6/dist-packages\n",
            "Requires: python-dateutil, numpy, pytz\n",
            "Required-by: xarray, vega-datasets, statsmodels, stable-baselines, sklearn-pandas, seaborn, pymc3, plotnine, pandas-profiling, pandas-gbq, pandas-datareader, mlxtend, mizani, magenta, gspread-dataframe, google-colab, fix-yahoo-finance, featuretools, fbprophet, fastai, cufflinks, altair\n"
          ],
          "name": "stdout"
        }
      ]
    },
    {
      "cell_type": "markdown",
      "metadata": {
        "id": "z0uNEOY3b7UN",
        "colab_type": "text"
      },
      "source": [
        "DOS"
      ]
    },
    {
      "cell_type": "code",
      "metadata": {
        "id": "tPFG5HTXb9bp",
        "colab_type": "code",
        "colab": {
          "base_uri": "https://localhost:8080/",
          "height": 359
        },
        "outputId": "590a5cc5-196d-43db-a744-59917ce371da"
      },
      "source": [
        "import pandas as pd\n",
        "import numpy as np\n",
        "data = {'animal': ['cat', 'cat', 'snake', 'dog', 'dog', 'cat', 'snake', 'cat', 'dog', 'dog'], 'age': [2.5, 3, 0.5, np.nan, 5, 2, 4.5, np.nan, 7, 3], 'visits': [1, 3, 2, 3, 2, 3, 1, 1, 2, 1], 'priority': ['yes', 'yes', 'no', 'yes', 'no', 'no', 'no', 'yes', 'no', 'no']}\n",
        "labels = ['a', 'b', 'c', 'd', 'e', 'f', 'g', 'h', 'i', 'j']\n",
        "tabla_animales = pd.DataFrame (data=data, index=labels)\n",
        "tabla_animales"
      ],
      "execution_count": 2,
      "outputs": [
        {
          "output_type": "execute_result",
          "data": {
            "text/html": [
              "<div>\n",
              "<style scoped>\n",
              "    .dataframe tbody tr th:only-of-type {\n",
              "        vertical-align: middle;\n",
              "    }\n",
              "\n",
              "    .dataframe tbody tr th {\n",
              "        vertical-align: top;\n",
              "    }\n",
              "\n",
              "    .dataframe thead th {\n",
              "        text-align: right;\n",
              "    }\n",
              "</style>\n",
              "<table border=\"1\" class=\"dataframe\">\n",
              "  <thead>\n",
              "    <tr style=\"text-align: right;\">\n",
              "      <th></th>\n",
              "      <th>animal</th>\n",
              "      <th>age</th>\n",
              "      <th>visits</th>\n",
              "      <th>priority</th>\n",
              "    </tr>\n",
              "  </thead>\n",
              "  <tbody>\n",
              "    <tr>\n",
              "      <th>a</th>\n",
              "      <td>cat</td>\n",
              "      <td>2.5</td>\n",
              "      <td>1</td>\n",
              "      <td>yes</td>\n",
              "    </tr>\n",
              "    <tr>\n",
              "      <th>b</th>\n",
              "      <td>cat</td>\n",
              "      <td>3.0</td>\n",
              "      <td>3</td>\n",
              "      <td>yes</td>\n",
              "    </tr>\n",
              "    <tr>\n",
              "      <th>c</th>\n",
              "      <td>snake</td>\n",
              "      <td>0.5</td>\n",
              "      <td>2</td>\n",
              "      <td>no</td>\n",
              "    </tr>\n",
              "    <tr>\n",
              "      <th>d</th>\n",
              "      <td>dog</td>\n",
              "      <td>NaN</td>\n",
              "      <td>3</td>\n",
              "      <td>yes</td>\n",
              "    </tr>\n",
              "    <tr>\n",
              "      <th>e</th>\n",
              "      <td>dog</td>\n",
              "      <td>5.0</td>\n",
              "      <td>2</td>\n",
              "      <td>no</td>\n",
              "    </tr>\n",
              "    <tr>\n",
              "      <th>f</th>\n",
              "      <td>cat</td>\n",
              "      <td>2.0</td>\n",
              "      <td>3</td>\n",
              "      <td>no</td>\n",
              "    </tr>\n",
              "    <tr>\n",
              "      <th>g</th>\n",
              "      <td>snake</td>\n",
              "      <td>4.5</td>\n",
              "      <td>1</td>\n",
              "      <td>no</td>\n",
              "    </tr>\n",
              "    <tr>\n",
              "      <th>h</th>\n",
              "      <td>cat</td>\n",
              "      <td>NaN</td>\n",
              "      <td>1</td>\n",
              "      <td>yes</td>\n",
              "    </tr>\n",
              "    <tr>\n",
              "      <th>i</th>\n",
              "      <td>dog</td>\n",
              "      <td>7.0</td>\n",
              "      <td>2</td>\n",
              "      <td>no</td>\n",
              "    </tr>\n",
              "    <tr>\n",
              "      <th>j</th>\n",
              "      <td>dog</td>\n",
              "      <td>3.0</td>\n",
              "      <td>1</td>\n",
              "      <td>no</td>\n",
              "    </tr>\n",
              "  </tbody>\n",
              "</table>\n",
              "</div>"
            ],
            "text/plain": [
              "  animal  age  visits priority\n",
              "a    cat  2.5       1      yes\n",
              "b    cat  3.0       3      yes\n",
              "c  snake  0.5       2       no\n",
              "d    dog  NaN       3      yes\n",
              "e    dog  5.0       2       no\n",
              "f    cat  2.0       3       no\n",
              "g  snake  4.5       1       no\n",
              "h    cat  NaN       1      yes\n",
              "i    dog  7.0       2       no\n",
              "j    dog  3.0       1       no"
            ]
          },
          "metadata": {
            "tags": []
          },
          "execution_count": 2
        }
      ]
    },
    {
      "cell_type": "markdown",
      "metadata": {
        "id": "TfvTRT4Ffoqz",
        "colab_type": "text"
      },
      "source": [
        "TRES"
      ]
    },
    {
      "cell_type": "code",
      "metadata": {
        "id": "FgsI_Ibhgwzc",
        "colab_type": "code",
        "colab": {
          "base_uri": "https://localhost:8080/",
          "height": 390
        },
        "outputId": "3e6981d6-1388-4c35-bb4e-386fda59c182"
      },
      "source": [
        "import pandas as pd\n",
        "import numpy as np\n",
        "\n",
        "tabla_animales.describe(include =\"all\")"
      ],
      "execution_count": 19,
      "outputs": [
        {
          "output_type": "execute_result",
          "data": {
            "text/html": [
              "<div>\n",
              "<style scoped>\n",
              "    .dataframe tbody tr th:only-of-type {\n",
              "        vertical-align: middle;\n",
              "    }\n",
              "\n",
              "    .dataframe tbody tr th {\n",
              "        vertical-align: top;\n",
              "    }\n",
              "\n",
              "    .dataframe thead th {\n",
              "        text-align: right;\n",
              "    }\n",
              "</style>\n",
              "<table border=\"1\" class=\"dataframe\">\n",
              "  <thead>\n",
              "    <tr style=\"text-align: right;\">\n",
              "      <th></th>\n",
              "      <th>animal</th>\n",
              "      <th>age</th>\n",
              "      <th>visits</th>\n",
              "      <th>priority</th>\n",
              "    </tr>\n",
              "  </thead>\n",
              "  <tbody>\n",
              "    <tr>\n",
              "      <th>count</th>\n",
              "      <td>10</td>\n",
              "      <td>8.000000</td>\n",
              "      <td>10.000000</td>\n",
              "      <td>10</td>\n",
              "    </tr>\n",
              "    <tr>\n",
              "      <th>unique</th>\n",
              "      <td>3</td>\n",
              "      <td>NaN</td>\n",
              "      <td>NaN</td>\n",
              "      <td>2</td>\n",
              "    </tr>\n",
              "    <tr>\n",
              "      <th>top</th>\n",
              "      <td>cat</td>\n",
              "      <td>NaN</td>\n",
              "      <td>NaN</td>\n",
              "      <td>no</td>\n",
              "    </tr>\n",
              "    <tr>\n",
              "      <th>freq</th>\n",
              "      <td>4</td>\n",
              "      <td>NaN</td>\n",
              "      <td>NaN</td>\n",
              "      <td>6</td>\n",
              "    </tr>\n",
              "    <tr>\n",
              "      <th>mean</th>\n",
              "      <td>NaN</td>\n",
              "      <td>3.437500</td>\n",
              "      <td>1.900000</td>\n",
              "      <td>NaN</td>\n",
              "    </tr>\n",
              "    <tr>\n",
              "      <th>std</th>\n",
              "      <td>NaN</td>\n",
              "      <td>2.007797</td>\n",
              "      <td>0.875595</td>\n",
              "      <td>NaN</td>\n",
              "    </tr>\n",
              "    <tr>\n",
              "      <th>min</th>\n",
              "      <td>NaN</td>\n",
              "      <td>0.500000</td>\n",
              "      <td>1.000000</td>\n",
              "      <td>NaN</td>\n",
              "    </tr>\n",
              "    <tr>\n",
              "      <th>25%</th>\n",
              "      <td>NaN</td>\n",
              "      <td>2.375000</td>\n",
              "      <td>1.000000</td>\n",
              "      <td>NaN</td>\n",
              "    </tr>\n",
              "    <tr>\n",
              "      <th>50%</th>\n",
              "      <td>NaN</td>\n",
              "      <td>3.000000</td>\n",
              "      <td>2.000000</td>\n",
              "      <td>NaN</td>\n",
              "    </tr>\n",
              "    <tr>\n",
              "      <th>75%</th>\n",
              "      <td>NaN</td>\n",
              "      <td>4.625000</td>\n",
              "      <td>2.750000</td>\n",
              "      <td>NaN</td>\n",
              "    </tr>\n",
              "    <tr>\n",
              "      <th>max</th>\n",
              "      <td>NaN</td>\n",
              "      <td>7.000000</td>\n",
              "      <td>3.000000</td>\n",
              "      <td>NaN</td>\n",
              "    </tr>\n",
              "  </tbody>\n",
              "</table>\n",
              "</div>"
            ],
            "text/plain": [
              "       animal       age     visits priority\n",
              "count      10  8.000000  10.000000       10\n",
              "unique      3       NaN        NaN        2\n",
              "top       cat       NaN        NaN       no\n",
              "freq        4       NaN        NaN        6\n",
              "mean      NaN  3.437500   1.900000      NaN\n",
              "std       NaN  2.007797   0.875595      NaN\n",
              "min       NaN  0.500000   1.000000      NaN\n",
              "25%       NaN  2.375000   1.000000      NaN\n",
              "50%       NaN  3.000000   2.000000      NaN\n",
              "75%       NaN  4.625000   2.750000      NaN\n",
              "max       NaN  7.000000   3.000000      NaN"
            ]
          },
          "metadata": {
            "tags": []
          },
          "execution_count": 19
        }
      ]
    },
    {
      "cell_type": "markdown",
      "metadata": {
        "id": "BQXpJ4cNhqw3",
        "colab_type": "text"
      },
      "source": [
        "CUATRO"
      ]
    },
    {
      "cell_type": "code",
      "metadata": {
        "id": "pT7r_vnXhVyP",
        "colab_type": "code",
        "colab": {
          "base_uri": "https://localhost:8080/",
          "height": 142
        },
        "outputId": "2f8b6322-cbaf-4b94-9041-4c1c590239fe"
      },
      "source": [
        "import pandas as pd\n",
        "import numpy as np\n",
        "tabla_animales.head (n=3)"
      ],
      "execution_count": 20,
      "outputs": [
        {
          "output_type": "execute_result",
          "data": {
            "text/html": [
              "<div>\n",
              "<style scoped>\n",
              "    .dataframe tbody tr th:only-of-type {\n",
              "        vertical-align: middle;\n",
              "    }\n",
              "\n",
              "    .dataframe tbody tr th {\n",
              "        vertical-align: top;\n",
              "    }\n",
              "\n",
              "    .dataframe thead th {\n",
              "        text-align: right;\n",
              "    }\n",
              "</style>\n",
              "<table border=\"1\" class=\"dataframe\">\n",
              "  <thead>\n",
              "    <tr style=\"text-align: right;\">\n",
              "      <th></th>\n",
              "      <th>animal</th>\n",
              "      <th>age</th>\n",
              "      <th>visits</th>\n",
              "      <th>priority</th>\n",
              "    </tr>\n",
              "  </thead>\n",
              "  <tbody>\n",
              "    <tr>\n",
              "      <th>a</th>\n",
              "      <td>cat</td>\n",
              "      <td>2.5</td>\n",
              "      <td>1</td>\n",
              "      <td>yes</td>\n",
              "    </tr>\n",
              "    <tr>\n",
              "      <th>b</th>\n",
              "      <td>cat</td>\n",
              "      <td>3.0</td>\n",
              "      <td>3</td>\n",
              "      <td>yes</td>\n",
              "    </tr>\n",
              "    <tr>\n",
              "      <th>c</th>\n",
              "      <td>snake</td>\n",
              "      <td>0.5</td>\n",
              "      <td>2</td>\n",
              "      <td>no</td>\n",
              "    </tr>\n",
              "  </tbody>\n",
              "</table>\n",
              "</div>"
            ],
            "text/plain": [
              "  animal  age  visits priority\n",
              "a    cat  2.5       1      yes\n",
              "b    cat  3.0       3      yes\n",
              "c  snake  0.5       2       no"
            ]
          },
          "metadata": {
            "tags": []
          },
          "execution_count": 20
        }
      ]
    },
    {
      "cell_type": "markdown",
      "metadata": {
        "id": "8R2ufwnPiS0g",
        "colab_type": "text"
      },
      "source": [
        "CINCO"
      ]
    },
    {
      "cell_type": "code",
      "metadata": {
        "id": "nq4tNE9BiVBm",
        "colab_type": "code",
        "colab": {
          "base_uri": "https://localhost:8080/",
          "height": 359
        },
        "outputId": "225fe316-7583-4a63-b946-ed23812d9ef4"
      },
      "source": [
        "import pandas as pd\n",
        "import numpy as np\n",
        "tabla_animales = tabla_animales.rename(columns= {\"animal\":\"Animal\", \"age\":\"Edad\", \"visits\":\"Visitas\", \"priority\":\"Prioridad\"} )\n",
        "tabla_animales"
      ],
      "execution_count": 4,
      "outputs": [
        {
          "output_type": "execute_result",
          "data": {
            "text/html": [
              "<div>\n",
              "<style scoped>\n",
              "    .dataframe tbody tr th:only-of-type {\n",
              "        vertical-align: middle;\n",
              "    }\n",
              "\n",
              "    .dataframe tbody tr th {\n",
              "        vertical-align: top;\n",
              "    }\n",
              "\n",
              "    .dataframe thead th {\n",
              "        text-align: right;\n",
              "    }\n",
              "</style>\n",
              "<table border=\"1\" class=\"dataframe\">\n",
              "  <thead>\n",
              "    <tr style=\"text-align: right;\">\n",
              "      <th></th>\n",
              "      <th>Animal</th>\n",
              "      <th>Edad</th>\n",
              "      <th>Visitas</th>\n",
              "      <th>Prioridad</th>\n",
              "    </tr>\n",
              "  </thead>\n",
              "  <tbody>\n",
              "    <tr>\n",
              "      <th>a</th>\n",
              "      <td>cat</td>\n",
              "      <td>2.5</td>\n",
              "      <td>1</td>\n",
              "      <td>yes</td>\n",
              "    </tr>\n",
              "    <tr>\n",
              "      <th>b</th>\n",
              "      <td>cat</td>\n",
              "      <td>3.0</td>\n",
              "      <td>3</td>\n",
              "      <td>yes</td>\n",
              "    </tr>\n",
              "    <tr>\n",
              "      <th>c</th>\n",
              "      <td>snake</td>\n",
              "      <td>0.5</td>\n",
              "      <td>2</td>\n",
              "      <td>no</td>\n",
              "    </tr>\n",
              "    <tr>\n",
              "      <th>d</th>\n",
              "      <td>dog</td>\n",
              "      <td>NaN</td>\n",
              "      <td>3</td>\n",
              "      <td>yes</td>\n",
              "    </tr>\n",
              "    <tr>\n",
              "      <th>e</th>\n",
              "      <td>dog</td>\n",
              "      <td>5.0</td>\n",
              "      <td>2</td>\n",
              "      <td>no</td>\n",
              "    </tr>\n",
              "    <tr>\n",
              "      <th>f</th>\n",
              "      <td>cat</td>\n",
              "      <td>2.0</td>\n",
              "      <td>3</td>\n",
              "      <td>no</td>\n",
              "    </tr>\n",
              "    <tr>\n",
              "      <th>g</th>\n",
              "      <td>snake</td>\n",
              "      <td>4.5</td>\n",
              "      <td>1</td>\n",
              "      <td>no</td>\n",
              "    </tr>\n",
              "    <tr>\n",
              "      <th>h</th>\n",
              "      <td>cat</td>\n",
              "      <td>NaN</td>\n",
              "      <td>1</td>\n",
              "      <td>yes</td>\n",
              "    </tr>\n",
              "    <tr>\n",
              "      <th>i</th>\n",
              "      <td>dog</td>\n",
              "      <td>7.0</td>\n",
              "      <td>2</td>\n",
              "      <td>no</td>\n",
              "    </tr>\n",
              "    <tr>\n",
              "      <th>j</th>\n",
              "      <td>dog</td>\n",
              "      <td>3.0</td>\n",
              "      <td>1</td>\n",
              "      <td>no</td>\n",
              "    </tr>\n",
              "  </tbody>\n",
              "</table>\n",
              "</div>"
            ],
            "text/plain": [
              "  Animal  Edad  Visitas Prioridad\n",
              "a    cat   2.5        1       yes\n",
              "b    cat   3.0        3       yes\n",
              "c  snake   0.5        2        no\n",
              "d    dog   NaN        3       yes\n",
              "e    dog   5.0        2        no\n",
              "f    cat   2.0        3        no\n",
              "g  snake   4.5        1        no\n",
              "h    cat   NaN        1       yes\n",
              "i    dog   7.0        2        no\n",
              "j    dog   3.0        1        no"
            ]
          },
          "metadata": {
            "tags": []
          },
          "execution_count": 4
        }
      ]
    },
    {
      "cell_type": "markdown",
      "metadata": {
        "id": "Mx6_GIHJnkYA",
        "colab_type": "text"
      },
      "source": [
        "SEIS"
      ]
    },
    {
      "cell_type": "code",
      "metadata": {
        "id": "3pSrRN3Pn2VB",
        "colab_type": "code",
        "colab": {
          "base_uri": "https://localhost:8080/",
          "height": 359
        },
        "outputId": "803e78de-4881-472d-fb41-460427d60cc3"
      },
      "source": [
        "import pandas as pd\n",
        "import numpy as np\n",
        "tabla_animales.iloc[:,[0,1]]"
      ],
      "execution_count": 22,
      "outputs": [
        {
          "output_type": "execute_result",
          "data": {
            "text/html": [
              "<div>\n",
              "<style scoped>\n",
              "    .dataframe tbody tr th:only-of-type {\n",
              "        vertical-align: middle;\n",
              "    }\n",
              "\n",
              "    .dataframe tbody tr th {\n",
              "        vertical-align: top;\n",
              "    }\n",
              "\n",
              "    .dataframe thead th {\n",
              "        text-align: right;\n",
              "    }\n",
              "</style>\n",
              "<table border=\"1\" class=\"dataframe\">\n",
              "  <thead>\n",
              "    <tr style=\"text-align: right;\">\n",
              "      <th></th>\n",
              "      <th>Animal</th>\n",
              "      <th>Edad</th>\n",
              "    </tr>\n",
              "  </thead>\n",
              "  <tbody>\n",
              "    <tr>\n",
              "      <th>a</th>\n",
              "      <td>cat</td>\n",
              "      <td>2.5</td>\n",
              "    </tr>\n",
              "    <tr>\n",
              "      <th>b</th>\n",
              "      <td>cat</td>\n",
              "      <td>3.0</td>\n",
              "    </tr>\n",
              "    <tr>\n",
              "      <th>c</th>\n",
              "      <td>snake</td>\n",
              "      <td>0.5</td>\n",
              "    </tr>\n",
              "    <tr>\n",
              "      <th>d</th>\n",
              "      <td>dog</td>\n",
              "      <td>NaN</td>\n",
              "    </tr>\n",
              "    <tr>\n",
              "      <th>e</th>\n",
              "      <td>dog</td>\n",
              "      <td>5.0</td>\n",
              "    </tr>\n",
              "    <tr>\n",
              "      <th>f</th>\n",
              "      <td>cat</td>\n",
              "      <td>2.0</td>\n",
              "    </tr>\n",
              "    <tr>\n",
              "      <th>g</th>\n",
              "      <td>snake</td>\n",
              "      <td>4.5</td>\n",
              "    </tr>\n",
              "    <tr>\n",
              "      <th>h</th>\n",
              "      <td>cat</td>\n",
              "      <td>NaN</td>\n",
              "    </tr>\n",
              "    <tr>\n",
              "      <th>i</th>\n",
              "      <td>dog</td>\n",
              "      <td>7.0</td>\n",
              "    </tr>\n",
              "    <tr>\n",
              "      <th>j</th>\n",
              "      <td>dog</td>\n",
              "      <td>3.0</td>\n",
              "    </tr>\n",
              "  </tbody>\n",
              "</table>\n",
              "</div>"
            ],
            "text/plain": [
              "  Animal  Edad\n",
              "a    cat   2.5\n",
              "b    cat   3.0\n",
              "c  snake   0.5\n",
              "d    dog   NaN\n",
              "e    dog   5.0\n",
              "f    cat   2.0\n",
              "g  snake   4.5\n",
              "h    cat   NaN\n",
              "i    dog   7.0\n",
              "j    dog   3.0"
            ]
          },
          "metadata": {
            "tags": []
          },
          "execution_count": 22
        }
      ]
    },
    {
      "cell_type": "markdown",
      "metadata": {
        "id": "vqgMxw0qphUD",
        "colab_type": "text"
      },
      "source": [
        "SIETE"
      ]
    },
    {
      "cell_type": "code",
      "metadata": {
        "id": "Pfz7_Ik2pjYj",
        "colab_type": "code",
        "colab": {
          "base_uri": "https://localhost:8080/",
          "height": 142
        },
        "outputId": "2c691c48-d0e3-423e-da7f-51d6e7268715"
      },
      "source": [
        "import pandas as pd\n",
        "import numpy as np\n",
        "tabla_animales.loc[ tabla_animales [\"Visitas\"] >=3 ]"
      ],
      "execution_count": 23,
      "outputs": [
        {
          "output_type": "execute_result",
          "data": {
            "text/html": [
              "<div>\n",
              "<style scoped>\n",
              "    .dataframe tbody tr th:only-of-type {\n",
              "        vertical-align: middle;\n",
              "    }\n",
              "\n",
              "    .dataframe tbody tr th {\n",
              "        vertical-align: top;\n",
              "    }\n",
              "\n",
              "    .dataframe thead th {\n",
              "        text-align: right;\n",
              "    }\n",
              "</style>\n",
              "<table border=\"1\" class=\"dataframe\">\n",
              "  <thead>\n",
              "    <tr style=\"text-align: right;\">\n",
              "      <th></th>\n",
              "      <th>Animal</th>\n",
              "      <th>Edad</th>\n",
              "      <th>Visitas</th>\n",
              "      <th>Prioridad</th>\n",
              "    </tr>\n",
              "  </thead>\n",
              "  <tbody>\n",
              "    <tr>\n",
              "      <th>b</th>\n",
              "      <td>cat</td>\n",
              "      <td>3.0</td>\n",
              "      <td>3</td>\n",
              "      <td>yes</td>\n",
              "    </tr>\n",
              "    <tr>\n",
              "      <th>d</th>\n",
              "      <td>dog</td>\n",
              "      <td>NaN</td>\n",
              "      <td>3</td>\n",
              "      <td>yes</td>\n",
              "    </tr>\n",
              "    <tr>\n",
              "      <th>f</th>\n",
              "      <td>cat</td>\n",
              "      <td>2.0</td>\n",
              "      <td>3</td>\n",
              "      <td>no</td>\n",
              "    </tr>\n",
              "  </tbody>\n",
              "</table>\n",
              "</div>"
            ],
            "text/plain": [
              "  Animal  Edad  Visitas Prioridad\n",
              "b    cat   3.0        3       yes\n",
              "d    dog   NaN        3       yes\n",
              "f    cat   2.0        3        no"
            ]
          },
          "metadata": {
            "tags": []
          },
          "execution_count": 23
        }
      ]
    },
    {
      "cell_type": "markdown",
      "metadata": {
        "id": "L2v75gb1qwc1",
        "colab_type": "text"
      },
      "source": [
        "OCHO"
      ]
    },
    {
      "cell_type": "code",
      "metadata": {
        "id": "3eDGeCR0qzV7",
        "colab_type": "code",
        "colab": {
          "base_uri": "https://localhost:8080/",
          "height": 111
        },
        "outputId": "70967094-677e-4628-8b90-3583fc4e3e4b"
      },
      "source": [
        "import pandas as pd\n",
        "import numpy as np\n",
        "sin_edad = tabla_animales[tabla_animales.Edad.isnull()]\n",
        "sin_edad"
      ],
      "execution_count": 24,
      "outputs": [
        {
          "output_type": "execute_result",
          "data": {
            "text/html": [
              "<div>\n",
              "<style scoped>\n",
              "    .dataframe tbody tr th:only-of-type {\n",
              "        vertical-align: middle;\n",
              "    }\n",
              "\n",
              "    .dataframe tbody tr th {\n",
              "        vertical-align: top;\n",
              "    }\n",
              "\n",
              "    .dataframe thead th {\n",
              "        text-align: right;\n",
              "    }\n",
              "</style>\n",
              "<table border=\"1\" class=\"dataframe\">\n",
              "  <thead>\n",
              "    <tr style=\"text-align: right;\">\n",
              "      <th></th>\n",
              "      <th>Animal</th>\n",
              "      <th>Edad</th>\n",
              "      <th>Visitas</th>\n",
              "      <th>Prioridad</th>\n",
              "    </tr>\n",
              "  </thead>\n",
              "  <tbody>\n",
              "    <tr>\n",
              "      <th>d</th>\n",
              "      <td>dog</td>\n",
              "      <td>NaN</td>\n",
              "      <td>3</td>\n",
              "      <td>yes</td>\n",
              "    </tr>\n",
              "    <tr>\n",
              "      <th>h</th>\n",
              "      <td>cat</td>\n",
              "      <td>NaN</td>\n",
              "      <td>1</td>\n",
              "      <td>yes</td>\n",
              "    </tr>\n",
              "  </tbody>\n",
              "</table>\n",
              "</div>"
            ],
            "text/plain": [
              "  Animal  Edad  Visitas Prioridad\n",
              "d    dog   NaN        3       yes\n",
              "h    cat   NaN        1       yes"
            ]
          },
          "metadata": {
            "tags": []
          },
          "execution_count": 24
        }
      ]
    },
    {
      "cell_type": "markdown",
      "metadata": {
        "id": "6N8dJ60UtJBw",
        "colab_type": "text"
      },
      "source": [
        "NUEVE"
      ]
    },
    {
      "cell_type": "code",
      "metadata": {
        "id": "u1YeS4IXtLn9",
        "colab_type": "code",
        "colab": {
          "base_uri": "https://localhost:8080/",
          "height": 173
        },
        "outputId": "38b9403d-b9ac-4ed6-d23e-19a2ba025033"
      },
      "source": [
        "import pandas as pd\n",
        "import numpy as np\n",
        "\n",
        "entreDosyCuatro = tabla_animales[ tabla_animales.Edad.isin ([2, 2.5, 3]) ]\n",
        "entreDosyCuatro\n",
        "\n"
      ],
      "execution_count": 7,
      "outputs": [
        {
          "output_type": "execute_result",
          "data": {
            "text/html": [
              "<div>\n",
              "<style scoped>\n",
              "    .dataframe tbody tr th:only-of-type {\n",
              "        vertical-align: middle;\n",
              "    }\n",
              "\n",
              "    .dataframe tbody tr th {\n",
              "        vertical-align: top;\n",
              "    }\n",
              "\n",
              "    .dataframe thead th {\n",
              "        text-align: right;\n",
              "    }\n",
              "</style>\n",
              "<table border=\"1\" class=\"dataframe\">\n",
              "  <thead>\n",
              "    <tr style=\"text-align: right;\">\n",
              "      <th></th>\n",
              "      <th>Animal</th>\n",
              "      <th>Edad</th>\n",
              "      <th>Visitas</th>\n",
              "      <th>Prioridad</th>\n",
              "    </tr>\n",
              "  </thead>\n",
              "  <tbody>\n",
              "    <tr>\n",
              "      <th>a</th>\n",
              "      <td>cat</td>\n",
              "      <td>2.5</td>\n",
              "      <td>1</td>\n",
              "      <td>yes</td>\n",
              "    </tr>\n",
              "    <tr>\n",
              "      <th>b</th>\n",
              "      <td>cat</td>\n",
              "      <td>3.0</td>\n",
              "      <td>3</td>\n",
              "      <td>yes</td>\n",
              "    </tr>\n",
              "    <tr>\n",
              "      <th>f</th>\n",
              "      <td>cat</td>\n",
              "      <td>2.0</td>\n",
              "      <td>3</td>\n",
              "      <td>no</td>\n",
              "    </tr>\n",
              "    <tr>\n",
              "      <th>j</th>\n",
              "      <td>dog</td>\n",
              "      <td>3.0</td>\n",
              "      <td>1</td>\n",
              "      <td>no</td>\n",
              "    </tr>\n",
              "  </tbody>\n",
              "</table>\n",
              "</div>"
            ],
            "text/plain": [
              "  Animal  Edad  Visitas Prioridad\n",
              "a    cat   2.5        1       yes\n",
              "b    cat   3.0        3       yes\n",
              "f    cat   2.0        3        no\n",
              "j    dog   3.0        1        no"
            ]
          },
          "metadata": {
            "tags": []
          },
          "execution_count": 7
        }
      ]
    },
    {
      "cell_type": "markdown",
      "metadata": {
        "id": "Dy7rb-Iq2Feg",
        "colab_type": "text"
      },
      "source": [
        "DIEZ"
      ]
    },
    {
      "cell_type": "code",
      "metadata": {
        "id": "NuuB4vOc2JS7",
        "colab_type": "code",
        "colab": {
          "base_uri": "https://localhost:8080/",
          "height": 34
        },
        "outputId": "bfee7686-9420-40a2-bbf6-e740f1647319"
      },
      "source": [
        "import pandas as pd\n",
        "import numpy as np\n",
        "tabla_animales[\"Visitas\"].sum()\n"
      ],
      "execution_count": 26,
      "outputs": [
        {
          "output_type": "execute_result",
          "data": {
            "text/plain": [
              "19"
            ]
          },
          "metadata": {
            "tags": []
          },
          "execution_count": 26
        }
      ]
    },
    {
      "cell_type": "markdown",
      "metadata": {
        "id": "0-IPTlGN68xT",
        "colab_type": "text"
      },
      "source": [
        "ONCE"
      ]
    },
    {
      "cell_type": "code",
      "metadata": {
        "id": "fokjKOpK6_rN",
        "colab_type": "code",
        "colab": {
          "base_uri": "https://localhost:8080/",
          "height": 102
        },
        "outputId": "fcad84bd-cdb2-4e2b-b631-f16a38de125c"
      },
      "source": [
        "import pandas as pd\n",
        "import numpy as np\n",
        "tabla_animales.groupby(\"Animal\").size()"
      ],
      "execution_count": 27,
      "outputs": [
        {
          "output_type": "execute_result",
          "data": {
            "text/plain": [
              "Animal\n",
              "cat      4\n",
              "dog      4\n",
              "snake    2\n",
              "dtype: int64"
            ]
          },
          "metadata": {
            "tags": []
          },
          "execution_count": 27
        }
      ]
    },
    {
      "cell_type": "markdown",
      "metadata": {
        "id": "dMscL4yy9qa8",
        "colab_type": "text"
      },
      "source": [
        "DOCE"
      ]
    },
    {
      "cell_type": "code",
      "metadata": {
        "id": "MEIsWRmy9shw",
        "colab_type": "code",
        "colab": {
          "base_uri": "https://localhost:8080/",
          "height": 359
        },
        "outputId": "0228c180-7300-4287-c254-c5ec4a8ea71f"
      },
      "source": [
        "import pandas as pd\n",
        "import numpy as np\n",
        "tabla_animales = tabla_animales.replace({\"yes\":True , \"no\":False})\n",
        "tabla_animales"
      ],
      "execution_count": 28,
      "outputs": [
        {
          "output_type": "execute_result",
          "data": {
            "text/html": [
              "<div>\n",
              "<style scoped>\n",
              "    .dataframe tbody tr th:only-of-type {\n",
              "        vertical-align: middle;\n",
              "    }\n",
              "\n",
              "    .dataframe tbody tr th {\n",
              "        vertical-align: top;\n",
              "    }\n",
              "\n",
              "    .dataframe thead th {\n",
              "        text-align: right;\n",
              "    }\n",
              "</style>\n",
              "<table border=\"1\" class=\"dataframe\">\n",
              "  <thead>\n",
              "    <tr style=\"text-align: right;\">\n",
              "      <th></th>\n",
              "      <th>Animal</th>\n",
              "      <th>Edad</th>\n",
              "      <th>Visitas</th>\n",
              "      <th>Prioridad</th>\n",
              "    </tr>\n",
              "  </thead>\n",
              "  <tbody>\n",
              "    <tr>\n",
              "      <th>a</th>\n",
              "      <td>cat</td>\n",
              "      <td>2.5</td>\n",
              "      <td>1</td>\n",
              "      <td>True</td>\n",
              "    </tr>\n",
              "    <tr>\n",
              "      <th>b</th>\n",
              "      <td>cat</td>\n",
              "      <td>3.0</td>\n",
              "      <td>3</td>\n",
              "      <td>True</td>\n",
              "    </tr>\n",
              "    <tr>\n",
              "      <th>c</th>\n",
              "      <td>snake</td>\n",
              "      <td>0.5</td>\n",
              "      <td>2</td>\n",
              "      <td>False</td>\n",
              "    </tr>\n",
              "    <tr>\n",
              "      <th>d</th>\n",
              "      <td>dog</td>\n",
              "      <td>NaN</td>\n",
              "      <td>3</td>\n",
              "      <td>True</td>\n",
              "    </tr>\n",
              "    <tr>\n",
              "      <th>e</th>\n",
              "      <td>dog</td>\n",
              "      <td>5.0</td>\n",
              "      <td>2</td>\n",
              "      <td>False</td>\n",
              "    </tr>\n",
              "    <tr>\n",
              "      <th>f</th>\n",
              "      <td>cat</td>\n",
              "      <td>2.0</td>\n",
              "      <td>3</td>\n",
              "      <td>False</td>\n",
              "    </tr>\n",
              "    <tr>\n",
              "      <th>g</th>\n",
              "      <td>snake</td>\n",
              "      <td>4.5</td>\n",
              "      <td>1</td>\n",
              "      <td>False</td>\n",
              "    </tr>\n",
              "    <tr>\n",
              "      <th>h</th>\n",
              "      <td>cat</td>\n",
              "      <td>NaN</td>\n",
              "      <td>1</td>\n",
              "      <td>True</td>\n",
              "    </tr>\n",
              "    <tr>\n",
              "      <th>i</th>\n",
              "      <td>dog</td>\n",
              "      <td>7.0</td>\n",
              "      <td>2</td>\n",
              "      <td>False</td>\n",
              "    </tr>\n",
              "    <tr>\n",
              "      <th>j</th>\n",
              "      <td>dog</td>\n",
              "      <td>3.0</td>\n",
              "      <td>1</td>\n",
              "      <td>False</td>\n",
              "    </tr>\n",
              "  </tbody>\n",
              "</table>\n",
              "</div>"
            ],
            "text/plain": [
              "  Animal  Edad  Visitas  Prioridad\n",
              "a    cat   2.5        1       True\n",
              "b    cat   3.0        3       True\n",
              "c  snake   0.5        2      False\n",
              "d    dog   NaN        3       True\n",
              "e    dog   5.0        2      False\n",
              "f    cat   2.0        3      False\n",
              "g  snake   4.5        1      False\n",
              "h    cat   NaN        1       True\n",
              "i    dog   7.0        2      False\n",
              "j    dog   3.0        1      False"
            ]
          },
          "metadata": {
            "tags": []
          },
          "execution_count": 28
        }
      ]
    },
    {
      "cell_type": "markdown",
      "metadata": {
        "id": "8lN63L1bAQMp",
        "colab_type": "text"
      },
      "source": [
        "TRECE"
      ]
    },
    {
      "cell_type": "code",
      "metadata": {
        "id": "NiVsQQvpLe-g",
        "colab_type": "code",
        "colab": {
          "base_uri": "https://localhost:8080/",
          "height": 359
        },
        "outputId": "9faedd0b-0aaf-480a-8089-b82b7eb65fd2"
      },
      "source": [
        "import pandas as pd\n",
        "import numpy as np \n",
        "ordenPorEdad = tabla_animales.sort_values('Edad', ascending = False )\n",
        "ordenPorEdad"
      ],
      "execution_count": 29,
      "outputs": [
        {
          "output_type": "execute_result",
          "data": {
            "text/html": [
              "<div>\n",
              "<style scoped>\n",
              "    .dataframe tbody tr th:only-of-type {\n",
              "        vertical-align: middle;\n",
              "    }\n",
              "\n",
              "    .dataframe tbody tr th {\n",
              "        vertical-align: top;\n",
              "    }\n",
              "\n",
              "    .dataframe thead th {\n",
              "        text-align: right;\n",
              "    }\n",
              "</style>\n",
              "<table border=\"1\" class=\"dataframe\">\n",
              "  <thead>\n",
              "    <tr style=\"text-align: right;\">\n",
              "      <th></th>\n",
              "      <th>Animal</th>\n",
              "      <th>Edad</th>\n",
              "      <th>Visitas</th>\n",
              "      <th>Prioridad</th>\n",
              "    </tr>\n",
              "  </thead>\n",
              "  <tbody>\n",
              "    <tr>\n",
              "      <th>i</th>\n",
              "      <td>dog</td>\n",
              "      <td>7.0</td>\n",
              "      <td>2</td>\n",
              "      <td>False</td>\n",
              "    </tr>\n",
              "    <tr>\n",
              "      <th>e</th>\n",
              "      <td>dog</td>\n",
              "      <td>5.0</td>\n",
              "      <td>2</td>\n",
              "      <td>False</td>\n",
              "    </tr>\n",
              "    <tr>\n",
              "      <th>g</th>\n",
              "      <td>snake</td>\n",
              "      <td>4.5</td>\n",
              "      <td>1</td>\n",
              "      <td>False</td>\n",
              "    </tr>\n",
              "    <tr>\n",
              "      <th>b</th>\n",
              "      <td>cat</td>\n",
              "      <td>3.0</td>\n",
              "      <td>3</td>\n",
              "      <td>True</td>\n",
              "    </tr>\n",
              "    <tr>\n",
              "      <th>j</th>\n",
              "      <td>dog</td>\n",
              "      <td>3.0</td>\n",
              "      <td>1</td>\n",
              "      <td>False</td>\n",
              "    </tr>\n",
              "    <tr>\n",
              "      <th>a</th>\n",
              "      <td>cat</td>\n",
              "      <td>2.5</td>\n",
              "      <td>1</td>\n",
              "      <td>True</td>\n",
              "    </tr>\n",
              "    <tr>\n",
              "      <th>f</th>\n",
              "      <td>cat</td>\n",
              "      <td>2.0</td>\n",
              "      <td>3</td>\n",
              "      <td>False</td>\n",
              "    </tr>\n",
              "    <tr>\n",
              "      <th>c</th>\n",
              "      <td>snake</td>\n",
              "      <td>0.5</td>\n",
              "      <td>2</td>\n",
              "      <td>False</td>\n",
              "    </tr>\n",
              "    <tr>\n",
              "      <th>d</th>\n",
              "      <td>dog</td>\n",
              "      <td>NaN</td>\n",
              "      <td>3</td>\n",
              "      <td>True</td>\n",
              "    </tr>\n",
              "    <tr>\n",
              "      <th>h</th>\n",
              "      <td>cat</td>\n",
              "      <td>NaN</td>\n",
              "      <td>1</td>\n",
              "      <td>True</td>\n",
              "    </tr>\n",
              "  </tbody>\n",
              "</table>\n",
              "</div>"
            ],
            "text/plain": [
              "  Animal  Edad  Visitas  Prioridad\n",
              "i    dog   7.0        2      False\n",
              "e    dog   5.0        2      False\n",
              "g  snake   4.5        1      False\n",
              "b    cat   3.0        3       True\n",
              "j    dog   3.0        1      False\n",
              "a    cat   2.5        1       True\n",
              "f    cat   2.0        3      False\n",
              "c  snake   0.5        2      False\n",
              "d    dog   NaN        3       True\n",
              "h    cat   NaN        1       True"
            ]
          },
          "metadata": {
            "tags": []
          },
          "execution_count": 29
        }
      ]
    },
    {
      "cell_type": "code",
      "metadata": {
        "id": "Ua26wfVEJpNt",
        "colab_type": "code",
        "colab": {
          "base_uri": "https://localhost:8080/",
          "height": 359
        },
        "outputId": "e87e1f79-0357-4cdd-fe89-c0d7ceb05a79"
      },
      "source": [
        "\n",
        "ordenPorVisitas = tabla_animales.sort_values ('Visitas')\n",
        "ordenPorVisitas"
      ],
      "execution_count": 31,
      "outputs": [
        {
          "output_type": "execute_result",
          "data": {
            "text/html": [
              "<div>\n",
              "<style scoped>\n",
              "    .dataframe tbody tr th:only-of-type {\n",
              "        vertical-align: middle;\n",
              "    }\n",
              "\n",
              "    .dataframe tbody tr th {\n",
              "        vertical-align: top;\n",
              "    }\n",
              "\n",
              "    .dataframe thead th {\n",
              "        text-align: right;\n",
              "    }\n",
              "</style>\n",
              "<table border=\"1\" class=\"dataframe\">\n",
              "  <thead>\n",
              "    <tr style=\"text-align: right;\">\n",
              "      <th></th>\n",
              "      <th>Animal</th>\n",
              "      <th>Edad</th>\n",
              "      <th>Visitas</th>\n",
              "      <th>Prioridad</th>\n",
              "    </tr>\n",
              "  </thead>\n",
              "  <tbody>\n",
              "    <tr>\n",
              "      <th>a</th>\n",
              "      <td>cat</td>\n",
              "      <td>2.5</td>\n",
              "      <td>1</td>\n",
              "      <td>True</td>\n",
              "    </tr>\n",
              "    <tr>\n",
              "      <th>g</th>\n",
              "      <td>snake</td>\n",
              "      <td>4.5</td>\n",
              "      <td>1</td>\n",
              "      <td>False</td>\n",
              "    </tr>\n",
              "    <tr>\n",
              "      <th>h</th>\n",
              "      <td>cat</td>\n",
              "      <td>NaN</td>\n",
              "      <td>1</td>\n",
              "      <td>True</td>\n",
              "    </tr>\n",
              "    <tr>\n",
              "      <th>j</th>\n",
              "      <td>dog</td>\n",
              "      <td>3.0</td>\n",
              "      <td>1</td>\n",
              "      <td>False</td>\n",
              "    </tr>\n",
              "    <tr>\n",
              "      <th>c</th>\n",
              "      <td>snake</td>\n",
              "      <td>0.5</td>\n",
              "      <td>2</td>\n",
              "      <td>False</td>\n",
              "    </tr>\n",
              "    <tr>\n",
              "      <th>e</th>\n",
              "      <td>dog</td>\n",
              "      <td>5.0</td>\n",
              "      <td>2</td>\n",
              "      <td>False</td>\n",
              "    </tr>\n",
              "    <tr>\n",
              "      <th>i</th>\n",
              "      <td>dog</td>\n",
              "      <td>7.0</td>\n",
              "      <td>2</td>\n",
              "      <td>False</td>\n",
              "    </tr>\n",
              "    <tr>\n",
              "      <th>b</th>\n",
              "      <td>cat</td>\n",
              "      <td>3.0</td>\n",
              "      <td>3</td>\n",
              "      <td>True</td>\n",
              "    </tr>\n",
              "    <tr>\n",
              "      <th>d</th>\n",
              "      <td>dog</td>\n",
              "      <td>NaN</td>\n",
              "      <td>3</td>\n",
              "      <td>True</td>\n",
              "    </tr>\n",
              "    <tr>\n",
              "      <th>f</th>\n",
              "      <td>cat</td>\n",
              "      <td>2.0</td>\n",
              "      <td>3</td>\n",
              "      <td>False</td>\n",
              "    </tr>\n",
              "  </tbody>\n",
              "</table>\n",
              "</div>"
            ],
            "text/plain": [
              "  Animal  Edad  Visitas  Prioridad\n",
              "a    cat   2.5        1       True\n",
              "g  snake   4.5        1      False\n",
              "h    cat   NaN        1       True\n",
              "j    dog   3.0        1      False\n",
              "c  snake   0.5        2      False\n",
              "e    dog   5.0        2      False\n",
              "i    dog   7.0        2      False\n",
              "b    cat   3.0        3       True\n",
              "d    dog   NaN        3       True\n",
              "f    cat   2.0        3      False"
            ]
          },
          "metadata": {
            "tags": []
          },
          "execution_count": 31
        }
      ]
    },
    {
      "cell_type": "markdown",
      "metadata": {
        "id": "w_zFanBYNnTL",
        "colab_type": "text"
      },
      "source": [
        "CATORCE"
      ]
    },
    {
      "cell_type": "code",
      "metadata": {
        "id": "saBp8S3oNpOW",
        "colab_type": "code",
        "colab": {
          "base_uri": "https://localhost:8080/",
          "height": 297
        },
        "outputId": "020a1d62-e88b-40f6-b527-ff50e88a451e"
      },
      "source": [
        "import pandas as pd\n",
        "import numpy as np\n",
        "tabla_animales.groupby( [\"Animal\",\"Visitas\"] ).mean()"
      ],
      "execution_count": 33,
      "outputs": [
        {
          "output_type": "execute_result",
          "data": {
            "text/html": [
              "<div>\n",
              "<style scoped>\n",
              "    .dataframe tbody tr th:only-of-type {\n",
              "        vertical-align: middle;\n",
              "    }\n",
              "\n",
              "    .dataframe tbody tr th {\n",
              "        vertical-align: top;\n",
              "    }\n",
              "\n",
              "    .dataframe thead th {\n",
              "        text-align: right;\n",
              "    }\n",
              "</style>\n",
              "<table border=\"1\" class=\"dataframe\">\n",
              "  <thead>\n",
              "    <tr style=\"text-align: right;\">\n",
              "      <th></th>\n",
              "      <th></th>\n",
              "      <th>Edad</th>\n",
              "      <th>Prioridad</th>\n",
              "    </tr>\n",
              "    <tr>\n",
              "      <th>Animal</th>\n",
              "      <th>Visitas</th>\n",
              "      <th></th>\n",
              "      <th></th>\n",
              "    </tr>\n",
              "  </thead>\n",
              "  <tbody>\n",
              "    <tr>\n",
              "      <th rowspan=\"2\" valign=\"top\">cat</th>\n",
              "      <th>1</th>\n",
              "      <td>2.5</td>\n",
              "      <td>1.0</td>\n",
              "    </tr>\n",
              "    <tr>\n",
              "      <th>3</th>\n",
              "      <td>2.5</td>\n",
              "      <td>0.5</td>\n",
              "    </tr>\n",
              "    <tr>\n",
              "      <th rowspan=\"3\" valign=\"top\">dog</th>\n",
              "      <th>1</th>\n",
              "      <td>3.0</td>\n",
              "      <td>0.0</td>\n",
              "    </tr>\n",
              "    <tr>\n",
              "      <th>2</th>\n",
              "      <td>6.0</td>\n",
              "      <td>0.0</td>\n",
              "    </tr>\n",
              "    <tr>\n",
              "      <th>3</th>\n",
              "      <td>NaN</td>\n",
              "      <td>1.0</td>\n",
              "    </tr>\n",
              "    <tr>\n",
              "      <th rowspan=\"2\" valign=\"top\">snake</th>\n",
              "      <th>1</th>\n",
              "      <td>4.5</td>\n",
              "      <td>0.0</td>\n",
              "    </tr>\n",
              "    <tr>\n",
              "      <th>2</th>\n",
              "      <td>0.5</td>\n",
              "      <td>0.0</td>\n",
              "    </tr>\n",
              "  </tbody>\n",
              "</table>\n",
              "</div>"
            ],
            "text/plain": [
              "                Edad  Prioridad\n",
              "Animal Visitas                 \n",
              "cat    1         2.5        1.0\n",
              "       3         2.5        0.5\n",
              "dog    1         3.0        0.0\n",
              "       2         6.0        0.0\n",
              "       3         NaN        1.0\n",
              "snake  1         4.5        0.0\n",
              "       2         0.5        0.0"
            ]
          },
          "metadata": {
            "tags": []
          },
          "execution_count": 33
        }
      ]
    }
  ]
}