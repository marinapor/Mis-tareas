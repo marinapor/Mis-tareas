{
  "nbformat": 4,
  "nbformat_minor": 0,
  "metadata": {
    "colab": {
      "name": "Marina-Tarea1.ipynb",
      "provenance": [],
      "collapsed_sections": [],
      "toc_visible": true,
      "authorship_tag": "ABX9TyMftUMjVZYcSvD6UMdl7Tn4",
      "include_colab_link": true
    },
    "kernelspec": {
      "name": "python3",
      "display_name": "Python 3"
    }
  },
  "cells": [
    {
      "cell_type": "markdown",
      "metadata": {
        "id": "view-in-github",
        "colab_type": "text"
      },
      "source": [
        "<a href=\"https://colab.research.google.com/github/marinapor/Mis-tareas/blob/master/Marina_Tarea1.ipynb\" target=\"_parent\"><img src=\"https://colab.research.google.com/assets/colab-badge.svg\" alt=\"Open In Colab\"/></a>"
      ]
    },
    {
      "cell_type": "markdown",
      "metadata": {
        "id": "DIztMkkzywGw",
        "colab_type": "text"
      },
      "source": [
        "**EJERCICIO UNO**"
      ]
    },
    {
      "cell_type": "code",
      "metadata": {
        "id": "9vSd5bd3WmwV",
        "colab_type": "code",
        "outputId": "05933957-2595-4e2d-9d1c-b69e2e07fb54",
        "colab": {
          "base_uri": "https://localhost:8080/",
          "height": 34
        }
      },
      "source": [
        "numero = int(input(\"por favor introduce un número n\"))\n"
      ],
      "execution_count": 0,
      "outputs": [
        {
          "output_type": "stream",
          "text": [
            "por favor introduce un número n-3\n"
          ],
          "name": "stdout"
        }
      ]
    },
    {
      "cell_type": "code",
      "metadata": {
        "id": "ZrvnRJg8Xhy7",
        "colab_type": "code",
        "outputId": "6d8cd390-f78f-420e-e2d2-492070ebac8b",
        "colab": {
          "base_uri": "https://localhost:8080/",
          "height": 34
        }
      },
      "source": [
        "if numero >= 0 :\n",
        "  print (\"Tu número es positivo\")\n",
        "elif numero <= 0:\n",
        "  print (\"Tu número es negativo\")  \n",
        "else:\n",
        "  print(\"Tu número es igual a cero\")"
      ],
      "execution_count": 0,
      "outputs": [
        {
          "output_type": "stream",
          "text": [
            "Tu número es negativo\n"
          ],
          "name": "stdout"
        }
      ]
    },
    {
      "cell_type": "markdown",
      "metadata": {
        "id": "Hb4u4fCif92B",
        "colab_type": "text"
      },
      "source": [
        "**EJERCICIO DOS**"
      ]
    },
    {
      "cell_type": "code",
      "metadata": {
        "id": "c9agdHdigIj9",
        "colab_type": "code",
        "outputId": "2d83a8cc-bbf6-482c-fd68-c508462c594f",
        "colab": {
          "base_uri": "https://localhost:8080/",
          "height": 34
        }
      },
      "source": [
        "valor_uno = int (input(\"Introduce un primer valor \") )"
      ],
      "execution_count": 0,
      "outputs": [
        {
          "output_type": "stream",
          "text": [
            "Introduce un primer valor5\n"
          ],
          "name": "stdout"
        }
      ]
    },
    {
      "cell_type": "code",
      "metadata": {
        "id": "yIm339l8WxbT",
        "colab_type": "code",
        "outputId": "8397f8ae-b1c8-4be9-970b-503b417a22b7",
        "colab": {
          "base_uri": "https://localhost:8080/",
          "height": 34
        }
      },
      "source": [
        "valor_dos = int (input(\"Introduce un segundo valor diferente a el primero \") )"
      ],
      "execution_count": 0,
      "outputs": [
        {
          "output_type": "stream",
          "text": [
            "Introduce un segundo valor diferente a el primero 6\n"
          ],
          "name": "stdout"
        }
      ]
    },
    {
      "cell_type": "code",
      "metadata": {
        "id": "zQP67n4CWx6N",
        "colab_type": "code",
        "outputId": "579a6f57-8f78-4757-adb4-8c481327e554",
        "colab": {
          "base_uri": "https://localhost:8080/",
          "height": 34
        }
      },
      "source": [
        "if valor_uno > valor_dos :\n",
        "  print (\"Tu primer numero \", valor_uno,\"es mayor que el segundo \", valor_dos)\n",
        "else:\n",
        "  print (\"Tu primer valor\", valor_uno, \"es menor que el segundo\", valor_dos)  "
      ],
      "execution_count": 0,
      "outputs": [
        {
          "output_type": "stream",
          "text": [
            "Tu primer valor 5 es menor que el segundo 6\n"
          ],
          "name": "stdout"
        }
      ]
    },
    {
      "cell_type": "markdown",
      "metadata": {
        "id": "CAV2sUWiezfE",
        "colab_type": "text"
      },
      "source": [
        "**EJERCICIO TRES**\n"
      ]
    },
    {
      "cell_type": "code",
      "metadata": {
        "id": "VO4WC0BTfEFr",
        "colab_type": "code",
        "outputId": "5de24d5f-9d93-4fa1-c158-cd57967dc9e4",
        "colab": {
          "base_uri": "https://localhost:8080/",
          "height": 34
        }
      },
      "source": [
        "n = int(input(\"Introduce un número n \"))\n"
      ],
      "execution_count": 0,
      "outputs": [
        {
          "output_type": "stream",
          "text": [
            "Introduce un número n 6\n"
          ],
          "name": "stdout"
        }
      ]
    },
    {
      "cell_type": "code",
      "metadata": {
        "id": "zRd7gs_nkYLX",
        "colab_type": "code",
        "outputId": "2b86e8ea-4c37-4422-8ddb-d9039ef51604",
        "colab": {
          "base_uri": "https://localhost:8080/",
          "height": 34
        }
      },
      "source": [
        "suma = 0\n",
        "for i in range(n+1):\n",
        "  suma = suma + n-i\n",
        "print (\"la suma de los\", n, \"primeros números es \", suma )  \n"
      ],
      "execution_count": 0,
      "outputs": [
        {
          "output_type": "stream",
          "text": [
            "la suma de los 6 primeros números es  21\n"
          ],
          "name": "stdout"
        }
      ]
    },
    {
      "cell_type": "markdown",
      "metadata": {
        "id": "UXdU982poDZI",
        "colab_type": "text"
      },
      "source": [
        "**EJERCICIO CUATRO**\n"
      ]
    },
    {
      "cell_type": "code",
      "metadata": {
        "id": "5WaUkxwOpm-F",
        "colab_type": "code",
        "outputId": "409decbd-0a22-483a-f60a-3cd546b0cd9a",
        "colab": {
          "base_uri": "https://localhost:8080/",
          "height": 34
        }
      },
      "source": [
        "n= int (input(\"Escribe un número n\" ) )"
      ],
      "execution_count": 0,
      "outputs": [
        {
          "output_type": "stream",
          "text": [
            "Escribe un número n6\n"
          ],
          "name": "stdout"
        }
      ]
    },
    {
      "cell_type": "code",
      "metadata": {
        "id": "cOyAX1lHpm5W",
        "colab_type": "code",
        "outputId": "fb0a3522-0dd4-4020-a564-30ab779c08b0",
        "colab": {
          "base_uri": "https://localhost:8080/",
          "height": 34
        }
      },
      "source": [
        "factorial = 1\n",
        "for i in range (n):\n",
        "    factorial = factorial * (n-i)\n",
        "print(\"El factorial del número que introdujiste es:\", n, \"!= \", factorial )\n"
      ],
      "execution_count": 0,
      "outputs": [
        {
          "output_type": "stream",
          "text": [
            "El factorial del número que introdujiste es: 6 !=  720\n"
          ],
          "name": "stdout"
        }
      ]
    },
    {
      "cell_type": "markdown",
      "metadata": {
        "id": "E83kIuqTzKjC",
        "colab_type": "text"
      },
      "source": [
        "**EJERCICIO CINCO**"
      ]
    },
    {
      "cell_type": "code",
      "metadata": {
        "id": "9nsS7xfrzWIx",
        "colab_type": "code",
        "outputId": "b76fa5d6-44e0-47c4-d47b-448a9544fbe9",
        "colab": {
          "base_uri": "https://localhost:8080/",
          "height": 34
        }
      },
      "source": [
        "n= int( input(\"Intrduce un número n: \") )"
      ],
      "execution_count": 0,
      "outputs": [
        {
          "output_type": "stream",
          "text": [
            "Intrduce un número n: 6\n"
          ],
          "name": "stdout"
        }
      ]
    },
    {
      "cell_type": "code",
      "metadata": {
        "id": "t-SvF_NQNx_J",
        "colab_type": "code",
        "outputId": "2539242c-cf76-4749-82a8-91477cbf55e9",
        "colab": {
          "base_uri": "https://localhost:8080/",
          "height": 102
        }
      },
      "source": [
        "print (\"Los divisores de \", n, \"son: \")\n",
        "for i in range (1, n+1):\n",
        "   if (n%i) == 0:\n",
        "      print (i, end=\"\\n\")\n",
        "      "
      ],
      "execution_count": 0,
      "outputs": [
        {
          "output_type": "stream",
          "text": [
            "Los divisores de  6 son: \n",
            "1\n",
            "2\n",
            "3\n",
            "6\n"
          ],
          "name": "stdout"
        }
      ]
    },
    {
      "cell_type": "markdown",
      "metadata": {
        "id": "7dG4ljfaSVek",
        "colab_type": "text"
      },
      "source": [
        "**EJERCICIO SEIS**\n"
      ]
    },
    {
      "cell_type": "code",
      "metadata": {
        "id": "av5Y-8gjTe71",
        "colab_type": "code",
        "outputId": "df643b84-d247-452b-ec87-58f5d3a6465a",
        "colab": {
          "base_uri": "https://localhost:8080/",
          "height": 34
        }
      },
      "source": [
        "a = int (input (\"Introduce un primer valor a: \"))"
      ],
      "execution_count": 0,
      "outputs": [
        {
          "output_type": "stream",
          "text": [
            "Introduce un primer valor a: 40\n"
          ],
          "name": "stdout"
        }
      ]
    },
    {
      "cell_type": "code",
      "metadata": {
        "id": "fgrL-hm8NzLL",
        "colab_type": "code",
        "outputId": "367103b7-3e0d-487a-db30-faa7a15eefb9",
        "colab": {
          "base_uri": "https://localhost:8080/",
          "height": 34
        }
      },
      "source": [
        "b = int (input(\"Introduce tu segundo valor b, menor al primero: \") )"
      ],
      "execution_count": 0,
      "outputs": [
        {
          "output_type": "stream",
          "text": [
            "Introduce tu segundo valor b, menor al primero: 8\n"
          ],
          "name": "stdout"
        }
      ]
    },
    {
      "cell_type": "code",
      "metadata": {
        "id": "jtjawUY_TLBr",
        "colab_type": "code",
        "outputId": "834b257a-a2c2-462c-a587-db38b34fd1f7",
        "colab": {
          "base_uri": "https://localhost:8080/",
          "height": 34
        }
      },
      "source": [
        "residuo = 0\n",
        "while (b > 0):\n",
        "   residuo = b\n",
        "   b = a % b\n",
        "   a = residuo\n",
        "print (\"El mcd entre los dos números que ingresaste es: \", a)\n"
      ],
      "execution_count": 0,
      "outputs": [
        {
          "output_type": "stream",
          "text": [
            "El mcd entre los dos números que ingresaste es:  8\n"
          ],
          "name": "stdout"
        }
      ]
    },
    {
      "cell_type": "markdown",
      "metadata": {
        "id": "hBmcvlNXY69c",
        "colab_type": "text"
      },
      "source": [
        "**EJERCICIO SIETE:**\n"
      ]
    },
    {
      "cell_type": "code",
      "metadata": {
        "colab_type": "code",
        "id": "zkgogsV1auNe",
        "outputId": "708af7ea-3ba8-4cbf-8b26-aff50a2952cf",
        "colab": {
          "base_uri": "https://localhost:8080/",
          "height": 34
        }
      },
      "source": [
        "n1= int (input(\"Introduce un numero n: \" ) )\n"
      ],
      "execution_count": 0,
      "outputs": [
        {
          "output_type": "stream",
          "text": [
            "Introduce un numero n: 35\n"
          ],
          "name": "stdout"
        }
      ]
    },
    {
      "cell_type": "markdown",
      "metadata": {
        "id": "zjvkC4fZme2t",
        "colab_type": "text"
      },
      "source": [
        ""
      ]
    },
    {
      "cell_type": "code",
      "metadata": {
        "id": "Rne_DTKWerws",
        "colab_type": "code",
        "outputId": "768b879a-fb8d-4a02-bcf1-cbd64058b5e2",
        "colab": {
          "base_uri": "https://localhost:8080/",
          "height": 34
        }
      },
      "source": [
        "n2= int (input ( \"Introduce un segundo valor \") )"
      ],
      "execution_count": 0,
      "outputs": [
        {
          "output_type": "stream",
          "text": [
            "Introduce un segundo valor 15\n"
          ],
          "name": "stdout"
        }
      ]
    },
    {
      "cell_type": "code",
      "metadata": {
        "id": "FMpE0kO8esKb",
        "colab_type": "code",
        "outputId": "5671002a-74dc-4f60-d6b1-b48af05af4ba",
        "colab": {
          "base_uri": "https://localhost:8080/",
          "height": 34
        }
      },
      "source": [
        "if n1 > n2:\n",
        "  a = n1\n",
        "  b= n2\n",
        "else:\n",
        "  a = n2\n",
        "  b = n1\n",
        "\n",
        "while b!= 0:\n",
        "  minimo_divisor = b\n",
        "  b= a % b\n",
        "  a= minimo_divisor\n",
        "mcm= n1*n2 // minimo_divisor\n",
        "print (\"El mcm de los numeros que introdujiste es: \", mcm ) \n"
      ],
      "execution_count": 0,
      "outputs": [
        {
          "output_type": "stream",
          "text": [
            "El mcm de los numeros que introdujiste es:  105\n"
          ],
          "name": "stdout"
        }
      ]
    },
    {
      "cell_type": "markdown",
      "metadata": {
        "id": "uGOeWcl7wNGH",
        "colab_type": "text"
      },
      "source": [
        "**EJERCICIO OCHO**\n"
      ]
    },
    {
      "cell_type": "code",
      "metadata": {
        "id": "5TgrsvrJjdb6",
        "colab_type": "code",
        "outputId": "660bb41c-5321-4760-dc2d-cc3b8c8cef01",
        "colab": {
          "base_uri": "https://localhost:8080/",
          "height": 34
        }
      },
      "source": [
        "n = int ( input (\"Introduce un numero entero mayor a cero: \") )"
      ],
      "execution_count": 0,
      "outputs": [
        {
          "output_type": "stream",
          "text": [
            "Introduce un numero entero mayor a cero: 6\n"
          ],
          "name": "stdout"
        }
      ]
    },
    {
      "cell_type": "code",
      "metadata": {
        "colab_type": "code",
        "outputId": "e751dc32-bee2-4a39-af47-c0a7794ba381",
        "id": "KhvcM9Dmj2KS",
        "colab": {
          "base_uri": "https://localhost:8080/",
          "height": 34
        }
      },
      "source": [
        "numero_de_divisores = 0\n",
        "for i in range (2,n):\n",
        "    if (n % i ) == 0:\n",
        "       numero_de_divisores += 1\n",
        "# fuera del ciclo for\n",
        "if (numero_de_divisores > 0):\n",
        "  print(\"EL numero que introdujiste no es primo\")  \n",
        "else:\n",
        "  print (\"El numero que introdujiste es un numero primo\")         \n",
        "      "
      ],
      "execution_count": 0,
      "outputs": [
        {
          "output_type": "stream",
          "text": [
            "EL numero que introdujiste no es primo\n"
          ],
          "name": "stdout"
        }
      ]
    }
  ]
}